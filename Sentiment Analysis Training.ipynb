{
 "cells": [
  {
   "cell_type": "markdown",
   "metadata": {},
   "source": [
    "## Training A Basic Sentiment Analysis Network"
   ]
  },
  {
   "cell_type": "code",
   "execution_count": 12,
   "metadata": {},
   "outputs": [],
   "source": [
    "import tensorflow as tf\n",
    "tf.enable_eager_execution()\n",
    "import re\n",
    "import numpy as np\n",
    "import time\n",
    "import pickle\n",
    "from sklearn import preprocessing\n",
    "from sklearn.model_selection import train_test_split\n",
    "import matplotlib.pyplot as plt"
   ]
  },
  {
   "cell_type": "markdown",
   "metadata": {},
   "source": [
    "### Overview of Data"
   ]
  },
  {
   "cell_type": "code",
   "execution_count": 13,
   "metadata": {},
   "outputs": [
    {
     "data": {
      "text/plain": [
       "<matplotlib.axes._subplots.AxesSubplot at 0x1fc47b6da20>"
      ]
     },
     "execution_count": 13,
     "metadata": {},
     "output_type": "execute_result"
    },
    {
     "data": {
      "image/png": "[encoded data removed]",
      "text/plain": [
       "<Figure size 432x288 with 1 Axes>"
      ]
     },
     "metadata": {
      "needs_background": "light"
     },
     "output_type": "display_data"
    }
   ],
   "source": [
    "data = pickle.load(open(\"SentimentRNN/merged_training.pkl\", 'rb'))\n",
    "data.emotions.value_counts().plot.bar()"
   ]
  },
  {
   "cell_type": "code",
   "execution_count": 14,
   "metadata": {},
   "outputs": [
    {
     "data": {
      "text/html": [
       "<div>\n",
       "<style scoped>\n",
       "    .dataframe tbody tr th:only-of-type {\n",
       "        vertical-align: middle;\n",
       "    }\n",
       "\n",
       "    .dataframe tbody tr th {\n",
       "        vertical-align: top;\n",
       "    }\n",
       "\n",
       "    .dataframe thead th {\n",
       "        text-align: right;\n",
       "    }\n",
       "</style>\n",
       "<table border=\"1\" class=\"dataframe\">\n",
       "  <thead>\n",
       "    <tr style=\"text-align: right;\">\n",
       "      <th></th>\n",
       "      <th>text</th>\n",
       "      <th>emotions</th>\n",
       "    </tr>\n",
       "  </thead>\n",
       "  <tbody>\n",
       "    <tr>\n",
       "      <th>27383</th>\n",
       "      <td>i feel awful about it too because it s my job ...</td>\n",
       "      <td>sadness</td>\n",
       "    </tr>\n",
       "    <tr>\n",
       "      <th>110083</th>\n",
       "      <td>im alone i feel awful</td>\n",
       "      <td>sadness</td>\n",
       "    </tr>\n",
       "    <tr>\n",
       "      <th>140764</th>\n",
       "      <td>ive probably mentioned this before but i reall...</td>\n",
       "      <td>joy</td>\n",
       "    </tr>\n",
       "    <tr>\n",
       "      <th>100071</th>\n",
       "      <td>i was feeling a little low few days back</td>\n",
       "      <td>sadness</td>\n",
       "    </tr>\n",
       "    <tr>\n",
       "      <th>2837</th>\n",
       "      <td>i beleive that i am much more sensitive to oth...</td>\n",
       "      <td>love</td>\n",
       "    </tr>\n",
       "  </tbody>\n",
       "</table>\n",
       "</div>"
      ],
      "text/plain": [
       "                                                     text emotions\n",
       "27383   i feel awful about it too because it s my job ...  sadness\n",
       "110083                              im alone i feel awful  sadness\n",
       "140764  ive probably mentioned this before but i reall...      joy\n",
       "100071           i was feeling a little low few days back  sadness\n",
       "2837    i beleive that i am much more sensitive to oth...     love"
      ]
     },
     "execution_count": 14,
     "metadata": {},
     "output_type": "execute_result"
    }
   ],
   "source": [
    "data.head()"
   ]
  },
  {
   "cell_type": "markdown",
   "metadata": {},
   "source": [
    "### Preprocessing"
   ]
  },
  {
   "cell_type": "code",
   "execution_count": 15,
   "metadata": {},
   "outputs": [],
   "source": [
    "# retain only text that contain less that 70 tokens to avoid too much padding\n",
    "data[\"token_size\"] = data[\"text\"].apply(lambda x: len(x.split(' ')))\n",
    "data = data.loc[data['token_size'] < 70].copy()\n",
    "\n",
    "# sampling\n",
    "data = data.sample(n=50000, random_state=1);"
   ]
  },
  {
   "cell_type": "code",
   "execution_count": 16,
   "metadata": {},
   "outputs": [],
   "source": [
    "# This class creates a word -> index mapping (e.g,. \"dad\" -> 5) and vice-versa \n",
    "# (e.g., 5 -> \"dad\") for the dataset\n",
    "class ConstructVocab():\n",
    "    def __init__(self, sentences):\n",
    "        self.sentences = sentences\n",
    "        self.word2idx = {}\n",
    "        self.idx2word = {}\n",
    "        self.vocab = set()\n",
    "        self.create_index()\n",
    "        \n",
    "    def create_index(self):\n",
    "        for s in self.sentences:\n",
    "            # update with individual tokens\n",
    "            self.vocab.update(s.split(' '))\n",
    "            \n",
    "        # sort the vocab\n",
    "        self.vocab = sorted(self.vocab)\n",
    "\n",
    "        # add a padding token with index 0\n",
    "        self.word2idx['<pad>'] = 0\n",
    "        \n",
    "        # word to index mapping\n",
    "        for index, word in enumerate(self.vocab):\n",
    "            self.word2idx[word] = index + 1 # +1 because of pad token\n",
    "        \n",
    "        # index to word mapping\n",
    "        for word, index in self.word2idx.items():\n",
    "            self.idx2word[index] = word\n",
    "            \n",
    "# construct vocab\n",
    "inputs = ConstructVocab(data[\"text\"].values.tolist())\n",
    "input_tensor = [[inputs.word2idx[s] for s in es.split(' ')]  for es in data[\"text\"].values.tolist()]"
   ]
  },
  {
   "cell_type": "code",
   "execution_count": 17,
   "metadata": {},
   "outputs": [],
   "source": [
    "# Save this encoder for use later\n",
    "TEXT_ENCODER_PATH = './SentimentRNN/textEncoder.pkl'\n",
    "\n",
    "with open(TEXT_ENCODER_PATH, 'wb') as encoderPath:\n",
    "    pickle.dump(inputs, encoderPath)"
   ]
  },
  {
   "cell_type": "code",
   "execution_count": 18,
   "metadata": {},
   "outputs": [],
   "source": [
    "# pad data\n",
    "def max_length(tensor):\n",
    "    return max(len(t) for t in tensor)\n",
    "\n",
    "max_length_inp = max_length(input_tensor)\n",
    "input_tensor = tf.keras.preprocessing.sequence.pad_sequences(input_tensor, \n",
    "                                                             maxlen=max_length_inp,\n",
    "                                                             padding='post')"
   ]
  },
  {
   "cell_type": "code",
   "execution_count": 19,
   "metadata": {},
   "outputs": [
    {
     "data": {
      "text/plain": [
       "'anger'"
      ]
     },
     "execution_count": 19,
     "metadata": {},
     "output_type": "execute_result"
    }
   ],
   "source": [
    "### convert targets to one-hot encoding vectors\n",
    "emotions = list(set(data.emotions.unique()))\n",
    "num_emotions = len(emotions)\n",
    "\n",
    "# binarizer\n",
    "mlb = preprocessing.MultiLabelBinarizer()\n",
    "data_labels =  [set(emos) & set(emotions) for emos in data[['emotions']].values]\n",
    "bin_emotions = mlb.fit_transform(data_labels)\n",
    "target_tensor = np.array(bin_emotions.tolist())\n",
    "\n",
    "# eval dicts\n",
    "get_emotion = lambda t: np.argmax(t)\n",
    "emotion_dict = {0: 'anger', 1: 'fear', 2: 'joy', 3: 'love', 4: 'sadness', 5: 'surprise'}\n",
    "\n",
    "# ie.\n",
    "emotion_dict[get_emotion(target_tensor[0])]"
   ]
  },
  {
   "cell_type": "markdown",
   "metadata": {},
   "source": [
    "### Training"
   ]
  },
  {
   "cell_type": "code",
   "execution_count": 20,
   "metadata": {},
   "outputs": [
    {
     "data": {
      "text/plain": [
       "(40000, 40000, 5000, 5000, 5000, 5000)"
      ]
     },
     "execution_count": 20,
     "metadata": {},
     "output_type": "execute_result"
    }
   ],
   "source": [
    "# Creating training and validation sets using an 80-20 split\n",
    "input_tensor_train, input_tensor_val, target_tensor_train, target_tensor_val = train_test_split(input_tensor, target_tensor, test_size=0.2)\n",
    "\n",
    "# Split the validataion further to obtain a holdout dataset (for testing) -- split 50:50\n",
    "input_tensor_val, input_tensor_test, target_tensor_val, target_tensor_test = train_test_split(input_tensor_val, target_tensor_val, test_size=0.5)\n",
    "\n",
    "# Show length\n",
    "len(input_tensor_train), len(target_tensor_train), len(input_tensor_val), len(target_tensor_val), len(input_tensor_test), len(target_tensor_test)"
   ]
  },
  {
   "cell_type": "code",
   "execution_count": 21,
   "metadata": {},
   "outputs": [
    {
     "name": "stdout",
     "output_type": "stream",
     "text": [
      "27511\n",
      "<DatasetV1Adapter shapes: ((64, 68), (64, 6)), types: (tf.int32, tf.int32)>\n",
      "<DatasetV1Adapter shapes: ((64, 68), (64, 6)), types: (tf.int32, tf.int32)>\n",
      "<DatasetV1Adapter shapes: ((64, 68), (64, 6)), types: (tf.int32, tf.int32)>\n"
     ]
    }
   ],
   "source": [
    "TRAIN_BUFFER_SIZE = len(input_tensor_train)\n",
    "VAL_BUFFER_SIZE = len(input_tensor_val)\n",
    "TEST_BUFFER_SIZE = len(input_tensor_test)\n",
    "BATCH_SIZE = 64\n",
    "TRAIN_N_BATCH = TRAIN_BUFFER_SIZE // BATCH_SIZE\n",
    "VAL_N_BATCH = VAL_BUFFER_SIZE // BATCH_SIZE\n",
    "TEST_N_BATCH = TEST_BUFFER_SIZE // BATCH_SIZE\n",
    "\n",
    "embedding_dim = 256\n",
    "units = 1024\n",
    "vocab_inp_size = len(inputs.word2idx)\n",
    "print(vocab_inp_size)\n",
    "target_size = num_emotions\n",
    "\n",
    "train_dataset = tf.data.Dataset.from_tensor_slices((input_tensor_train, \n",
    "                                                    target_tensor_train)).shuffle(TRAIN_BUFFER_SIZE)\n",
    "train_dataset = train_dataset.batch(BATCH_SIZE, drop_remainder=True)\n",
    "val_dataset = tf.data.Dataset.from_tensor_slices((input_tensor_val, \n",
    "                                                  target_tensor_val)).shuffle(VAL_BUFFER_SIZE)\n",
    "val_dataset = val_dataset.batch(BATCH_SIZE, drop_remainder=True)\n",
    "test_dataset = tf.data.Dataset.from_tensor_slices((input_tensor_test, \n",
    "                                                    target_tensor_test)).shuffle(TEST_BUFFER_SIZE)\n",
    "test_dataset = test_dataset.batch(BATCH_SIZE, drop_remainder=True)\n",
    "\n",
    "# checking minibatch\n",
    "print(train_dataset)\n",
    "print(val_dataset)\n",
    "print(test_dataset)"
   ]
  },
  {
   "cell_type": "code",
   "execution_count": 22,
   "metadata": {},
   "outputs": [],
   "source": [
    "### define the GRU component\n",
    "def gru(units):\n",
    "    if tf.test.is_gpu_available():\n",
    "        return tf.keras.layers.CuDNNGRU(units, \n",
    "                                    return_sequences=True, \n",
    "                                    return_state=True, \n",
    "                                    recurrent_initializer='glorot_uniform')\n",
    "    else:\n",
    "        return tf.keras.layers.GRU(units, \n",
    "                               return_sequences=True, \n",
    "                               return_state=True, \n",
    "                               recurrent_activation='relu', \n",
    "                               recurrent_initializer='glorot_uniform')\n",
    "\n",
    "### Build the model\n",
    "class EmoGRU(tf.keras.Model):\n",
    "    def __init__(self, vocab_size, embedding_dim, hidden_units, batch_sz, output_size):\n",
    "        super(EmoGRU, self).__init__()\n",
    "        self.batch_sz = batch_sz\n",
    "        self.hidden_units = hidden_units\n",
    "        \n",
    "        # layers\n",
    "        self.embedding = tf.keras.layers.Embedding(vocab_size, embedding_dim)\n",
    "        self.dropout = tf.keras.layers.Dropout(0.5)\n",
    "        self.gru = gru(self.hidden_units)\n",
    "        self.fc = tf.keras.layers.Dense(output_size)\n",
    "        \n",
    "    def call(self, x, hidden):\n",
    "        x = self.embedding(x) # batch_size X max_len X embedding_dim\n",
    "        output, state = self.gru(x, initial_state = hidden) #  batch_size X max_len X hidden_units\n",
    "        out = output[:,-1,:]\n",
    "        out = self.dropout(out)\n",
    "        out = self.fc(out) # batch_size X max_len X output_size\n",
    "        return out, state\n",
    "    \n",
    "    def initialize_hidden_state(self):\n",
    "        return tf.zeros((self.batch_sz, self.hidden_units))"
   ]
  },
  {
   "cell_type": "code",
   "execution_count": 23,
   "metadata": {},
   "outputs": [
    {
     "name": "stdout",
     "output_type": "stream",
     "text": [
      "WARNING:tensorflow:From C:\\Users\\brian\\.conda\\envs\\conda_env\\lib\\site-packages\\tensorflow\\python\\data\\ops\\iterator_ops.py:532: colocate_with (from tensorflow.python.framework.ops) is deprecated and will be removed in a future version.\n",
      "Instructions for updating:\n",
      "Colocations handled automatically by placer.\n",
      "(64, 6)\n",
      "_________________________________________________________________\n",
      "Layer (type)                 Output Shape              Param #   \n",
      "=================================================================\n",
      "embedding (Embedding)        multiple                  7042816   \n",
      "_________________________________________________________________\n",
      "dropout (Dropout)            multiple                  0         \n",
      "_________________________________________________________________\n",
      "cu_dnngru (CuDNNGRU)         multiple                  3938304   \n",
      "_________________________________________________________________\n",
      "dense (Dense)                multiple                  6150      \n",
      "=================================================================\n",
      "Total params: 10,987,270\n",
      "Trainable params: 10,987,270\n",
      "Non-trainable params: 0\n",
      "_________________________________________________________________\n"
     ]
    }
   ],
   "source": [
    "model = EmoGRU(vocab_inp_size, embedding_dim, units, BATCH_SIZE, target_size)\n",
    "\n",
    "# initialize the hidden state of the RNN\n",
    "hidden = model.initialize_hidden_state()\n",
    "\n",
    "# testing for the first batch only then break the for loop\n",
    "# Potential bug: out is not randomized enough\n",
    "for (batch, (inp, targ)) in enumerate(train_dataset):\n",
    "    out, state = model(inp, hidden)\n",
    "    print(out.shape) \n",
    "    break\n",
    "    \n",
    "model.summary()"
   ]
  },
  {
   "cell_type": "code",
   "execution_count": 24,
   "metadata": {},
   "outputs": [],
   "source": [
    "optimizer = tf.train.AdamOptimizer()\n",
    "\n",
    "def loss_function(y, prediction):\n",
    "    return tf.losses.softmax_cross_entropy(y, logits=prediction)\n",
    "\n",
    "def accuracy(y, yhat):\n",
    "    #compare the predictions to the truth\n",
    "    yhat = tf.argmax(yhat, 1).numpy()\n",
    "    y    = tf.argmax(y   , 1).numpy()\n",
    "    return np.sum(y == yhat)/len(y)"
   ]
  },
  {
   "cell_type": "code",
   "execution_count": 25,
   "metadata": {
    "scrolled": true
   },
   "outputs": [
    {
     "name": "stdout",
     "output_type": "stream",
     "text": [
      "WARNING:tensorflow:From C:\\Users\\brian\\.conda\\envs\\conda_env\\lib\\site-packages\\tensorflow\\python\\ops\\losses\\losses_impl.py:209: to_float (from tensorflow.python.ops.math_ops) is deprecated and will be removed in a future version.\n",
      "Instructions for updating:\n",
      "Use tf.cast instead.\n",
      "Epoch 1 Batch 0 Val. Loss 0.2991\n",
      "Epoch 1 Batch 100 Val. Loss 0.2490\n",
      "Epoch 1 Batch 200 Val. Loss 0.2654\n",
      "Epoch 1 Batch 300 Val. Loss 0.2692\n",
      "Epoch 1 Batch 400 Val. Loss 0.2636\n",
      "Epoch 1 Batch 500 Val. Loss 0.2585\n",
      "Epoch 1 Batch 600 Val. Loss 0.2200\n",
      "Epoch 1 Loss 0.2638 -- Train Acc. 0.3315 -- Val Acc. 0.2937\n",
      "Time taken for 1 epoch 93.34416127204895 sec\n",
      "\n",
      "Epoch 2 Batch 0 Val. Loss 0.2644\n",
      "Epoch 2 Batch 100 Val. Loss 0.2584\n",
      "Epoch 2 Batch 200 Val. Loss 0.2385\n",
      "Epoch 2 Batch 300 Val. Loss 0.2429\n",
      "Epoch 2 Batch 400 Val. Loss 0.2312\n",
      "Epoch 2 Batch 500 Val. Loss 0.2283\n",
      "Epoch 2 Batch 600 Val. Loss 0.2231\n",
      "Epoch 2 Loss 0.2481 -- Train Acc. 0.4124 -- Val Acc. 0.5409\n",
      "Time taken for 1 epoch 81.85736632347107 sec\n",
      "\n",
      "Epoch 3 Batch 0 Val. Loss 0.2529\n",
      "Epoch 3 Batch 100 Val. Loss 0.1848\n",
      "Epoch 3 Batch 200 Val. Loss 0.2100\n",
      "Epoch 3 Batch 300 Val. Loss 0.1869\n",
      "Epoch 3 Batch 400 Val. Loss 0.1646\n",
      "Epoch 3 Batch 500 Val. Loss 0.2028\n",
      "Epoch 3 Batch 600 Val. Loss 0.1520\n",
      "Epoch 3 Loss 0.1870 -- Train Acc. 0.5944 -- Val Acc. 0.6268\n",
      "Time taken for 1 epoch 86.35013389587402 sec\n",
      "\n",
      "Epoch 4 Batch 0 Val. Loss 0.1647\n",
      "Epoch 4 Batch 100 Val. Loss 0.1469\n",
      "Epoch 4 Batch 200 Val. Loss 0.1665\n",
      "Epoch 4 Batch 300 Val. Loss 0.1755\n",
      "Epoch 4 Batch 400 Val. Loss 0.1232\n",
      "Epoch 4 Batch 500 Val. Loss 0.1174\n",
      "Epoch 4 Batch 600 Val. Loss 0.1085\n",
      "Epoch 4 Loss 0.1508 -- Train Acc. 0.6823 -- Val Acc. 0.7027\n",
      "Time taken for 1 epoch 97.76607155799866 sec\n",
      "\n",
      "Epoch 5 Batch 0 Val. Loss 0.1532\n",
      "Epoch 5 Batch 100 Val. Loss 0.1437\n",
      "Epoch 5 Batch 200 Val. Loss 0.1336\n",
      "Epoch 5 Batch 300 Val. Loss 0.1033\n",
      "Epoch 5 Batch 400 Val. Loss 0.1271\n",
      "Epoch 5 Batch 500 Val. Loss 0.1141\n",
      "Epoch 5 Batch 600 Val. Loss 0.0968\n",
      "Epoch 5 Loss 0.1184 -- Train Acc. 0.7534 -- Val Acc. 0.7480\n",
      "Time taken for 1 epoch 101.17011952400208 sec\n",
      "\n",
      "Epoch 6 Batch 0 Val. Loss 0.1122\n",
      "Epoch 6 Batch 100 Val. Loss 0.0753\n",
      "Epoch 6 Batch 200 Val. Loss 0.0582\n",
      "Epoch 6 Batch 300 Val. Loss 0.0840\n",
      "Epoch 6 Batch 400 Val. Loss 0.0927\n",
      "Epoch 6 Batch 500 Val. Loss 0.1150\n",
      "Epoch 6 Batch 600 Val. Loss 0.0810\n",
      "Epoch 6 Loss 0.0962 -- Train Acc. 0.8021 -- Val Acc. 0.7690\n",
      "Time taken for 1 epoch 114.10034418106079 sec\n",
      "\n",
      "Epoch 7 Batch 0 Val. Loss 0.1049\n",
      "Epoch 7 Batch 100 Val. Loss 0.0644\n",
      "Epoch 7 Batch 200 Val. Loss 0.0802\n",
      "Epoch 7 Batch 300 Val. Loss 0.0884\n",
      "Epoch 7 Batch 400 Val. Loss 0.1107\n",
      "Epoch 7 Batch 500 Val. Loss 0.0655\n",
      "Epoch 7 Batch 600 Val. Loss 0.0880\n",
      "Epoch 7 Loss 0.0809 -- Train Acc. 0.8321 -- Val Acc. 0.7893\n",
      "Time taken for 1 epoch 114.958425283432 sec\n",
      "\n",
      "Epoch 8 Batch 0 Val. Loss 0.0938\n",
      "Epoch 8 Batch 100 Val. Loss 0.0758\n",
      "Epoch 8 Batch 200 Val. Loss 0.0536\n",
      "Epoch 8 Batch 300 Val. Loss 0.0704\n",
      "Epoch 8 Batch 400 Val. Loss 0.0818\n",
      "Epoch 8 Batch 500 Val. Loss 0.0805\n",
      "Epoch 8 Batch 600 Val. Loss 0.0547\n",
      "Epoch 8 Loss 0.0706 -- Train Acc. 0.8540 -- Val Acc. 0.8001\n",
      "Time taken for 1 epoch 100.12256693840027 sec\n",
      "\n",
      "Epoch 9 Batch 0 Val. Loss 0.0789\n",
      "Epoch 9 Batch 100 Val. Loss 0.0490\n",
      "Epoch 9 Batch 200 Val. Loss 0.0725\n",
      "Epoch 9 Batch 300 Val. Loss 0.0565\n",
      "Epoch 9 Batch 400 Val. Loss 0.0519\n",
      "Epoch 9 Batch 500 Val. Loss 0.0556\n",
      "Epoch 9 Batch 600 Val. Loss 0.0518\n",
      "Epoch 9 Loss 0.0615 -- Train Acc. 0.8728 -- Val Acc. 0.8109\n",
      "Time taken for 1 epoch 93.52576756477356 sec\n",
      "\n",
      "Epoch 10 Batch 0 Val. Loss 0.0554\n",
      "Epoch 10 Batch 100 Val. Loss 0.0527\n",
      "Epoch 10 Batch 200 Val. Loss 0.0433\n",
      "Epoch 10 Batch 300 Val. Loss 0.0545\n",
      "Epoch 10 Batch 400 Val. Loss 0.0412\n",
      "Epoch 10 Batch 500 Val. Loss 0.0648\n",
      "Epoch 10 Batch 600 Val. Loss 0.0482\n",
      "Epoch 10 Loss 0.0536 -- Train Acc. 0.8880 -- Val Acc. 0.8225\n",
      "Time taken for 1 epoch 91.7094144821167 sec\n",
      "\n"
     ]
    }
   ],
   "source": [
    "EPOCHS = 10\n",
    "\n",
    "for epoch in range(EPOCHS):\n",
    "    start = time.time()\n",
    "    \n",
    "    ### Initialize hidden state\n",
    "    hidden = model.initialize_hidden_state()\n",
    "    total_loss = 0\n",
    "    train_accuracy, val_accuracy = 0, 0\n",
    "    \n",
    "    ### Training\n",
    "    for (batch, (inp, targ)) in enumerate(train_dataset):\n",
    "        loss = 0\n",
    "        \n",
    "        with tf.GradientTape() as tape:\n",
    "            predictions,_ = model(inp, hidden)\n",
    "            loss += loss_function(targ, predictions)\n",
    "        batch_loss = (loss / int(targ.shape[1]))        \n",
    "        total_loss += batch_loss\n",
    "        \n",
    "        batch_accuracy = accuracy(targ, predictions)\n",
    "        train_accuracy += batch_accuracy\n",
    "        \n",
    "        gradients = tape.gradient(loss, model.variables)\n",
    "        optimizer.apply_gradients(zip(gradients, model.variables))\n",
    "        \n",
    "        if batch % 100 == 0:\n",
    "            print('Epoch {} Batch {} Val. Loss {:.4f}'.format(epoch + 1,\n",
    "                                                         batch,\n",
    "                                                         batch_loss.numpy()))\n",
    "            \n",
    "    ### Validating\n",
    "    hidden = model.initialize_hidden_state()\n",
    "\n",
    "    for (batch, (inp, targ)) in enumerate(val_dataset):        \n",
    "        predictions,_ = model(inp, hidden)        \n",
    "        batch_accuracy = accuracy(targ, predictions)\n",
    "        val_accuracy += batch_accuracy\n",
    "    \n",
    "    print('Epoch {} Loss {:.4f} -- Train Acc. {:.4f} -- Val Acc. {:.4f}'.format(epoch + 1, \n",
    "                                                             total_loss / TRAIN_N_BATCH, \n",
    "                                                             train_accuracy / TRAIN_N_BATCH,\n",
    "                                                             val_accuracy / VAL_N_BATCH))\n",
    "    print('Time taken for 1 epoch {} sec\\n'.format(time.time() - start))"
   ]
  },
  {
   "cell_type": "code",
   "execution_count": 26,
   "metadata": {},
   "outputs": [
    {
     "name": "stdout",
     "output_type": "stream",
     "text": [
      "Test Accuracy:  0.8137019230769231\n"
     ]
    }
   ],
   "source": [
    "# Evaluate on testing data\n",
    "test_accuracy = 0\n",
    "all_predictions = []\n",
    "x_raw = []\n",
    "y_raw = []\n",
    "\n",
    "# need fresh model hidden state only per batch???\n",
    "hidden = model.initialize_hidden_state()\n",
    "\n",
    "for (batch, (inp, targ)) in enumerate(test_dataset):\n",
    "    predictions,_ = model(inp, hidden)\n",
    "    batch_accuracy = accuracy(targ, predictions)\n",
    "    test_accuracy += batch_accuracy\n",
    "    \n",
    "    x_raw = x_raw + [x for x in inp]\n",
    "    y_raw = y_raw + [y for y in targ]\n",
    "    \n",
    "    all_predictions.append(predictions)\n",
    "    \n",
    "print(\"Test Accuracy: \", test_accuracy/TEST_N_BATCH)"
   ]
  },
  {
   "cell_type": "code",
   "execution_count": 27,
   "metadata": {},
   "outputs": [
    {
     "name": "stdout",
     "output_type": "stream",
     "text": [
      "WARNING:tensorflow:From C:\\Users\\brian\\.conda\\envs\\conda_env\\lib\\site-packages\\tensorflow\\python\\keras\\engine\\network.py:1436: update_checkpoint_state (from tensorflow.python.training.checkpoint_management) is deprecated and will be removed in a future version.\n",
      "Instructions for updating:\n",
      "Use tf.train.CheckpointManager to manage checkpoints rather than manually editing the Checkpoint proto.\n"
     ]
    }
   ],
   "source": [
    "# Save model for usage\n",
    "model.save_weights('SentimentRNN/checkpoints/')"
   ]
  },
  {
   "cell_type": "code",
   "execution_count": null,
   "metadata": {},
   "outputs": [],
   "source": []
  }
 ],
 "metadata": {
  "kernelspec": {
   "display_name": "Python 3",
   "language": "python",
   "name": "python3"
  },
  "language_info": {
   "codemirror_mode": {
    "name": "ipython",
    "version": 3
   },
   "file_extension": ".py",
   "mimetype": "text/x-python",
   "name": "python",
   "nbconvert_exporter": "python",
   "pygments_lexer": "ipython3",
   "version": "3.7.3"
  }
 },
 "nbformat": 4,
 "nbformat_minor": 2
}
