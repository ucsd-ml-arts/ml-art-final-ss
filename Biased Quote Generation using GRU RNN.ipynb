{
 "cells": [
  {
   "cell_type": "markdown",
   "metadata": {},
   "source": [
    "# (Biased) Quote Generation via RNN\n",
    "##### NOTE: PSAW allows only 180 queries/min.\n",
    "\n",
    "While many quote generators already exist in the wild, I thought it would be interesting to grab a \"biased\" set of quotes that represents what the Reddit community at large generally prefers when it comes to selecting quotes. There is no requirement to post in the /r/quotes subreddit, but observing the output might give some insight into what exactly makes a quote \"memorable\" or \"significant\" to a typical reddit user."
   ]
  },
  {
   "cell_type": "code",
   "execution_count": 1,
   "metadata": {},
   "outputs": [
    {
     "name": "stdout",
     "output_type": "stream",
     "text": [
      "Collecting praw\n",
      "  Downloading https://files.pythonhosted.org/packages/87/95/1abd708fce27ba87ca9f17c6e68fe9d287666ad067432a7cd54d46424276/praw-6.3.1-py2.py3-none-any.whl (126kB)\n",
      "Collecting update-checker>=0.16 (from praw)\n",
      "  Using cached https://files.pythonhosted.org/packages/17/c9/ab11855af164d03be0ff4fddd4c46a5bd44799a9ecc1770e01a669c21168/update_checker-0.16-py2.py3-none-any.whl\n",
      "Collecting prawcore<2.0,>=1.0.1 (from praw)\n",
      "  Using cached https://files.pythonhosted.org/packages/76/b5/ce6282dea45cba6f08a30e25d18e0f3d33277e2c9fcbda75644b8dc0089b/prawcore-1.0.1-py2.py3-none-any.whl\n",
      "Collecting websocket-client>=0.54.0 (from praw)\n",
      "  Using cached https://files.pythonhosted.org/packages/29/19/44753eab1fdb50770ac69605527e8859468f3c0fd7dc5a76dd9c4dbd7906/websocket_client-0.56.0-py2.py3-none-any.whl\n",
      "Requirement already satisfied: requests>=2.3.0 in c:\\programdata\\anaconda3\\envs\\tfenv\\lib\\site-packages (from update-checker>=0.16->praw) (2.21.0)\n",
      "Requirement already satisfied: six in c:\\programdata\\anaconda3\\envs\\tfenv\\lib\\site-packages (from websocket-client>=0.54.0->praw) (1.12.0)\n",
      "Requirement already satisfied: urllib3<1.25,>=1.21.1 in c:\\programdata\\anaconda3\\envs\\tfenv\\lib\\site-packages (from requests>=2.3.0->update-checker>=0.16->praw) (1.24.1)\n",
      "Requirement already satisfied: idna<2.9,>=2.5 in c:\\programdata\\anaconda3\\envs\\tfenv\\lib\\site-packages (from requests>=2.3.0->update-checker>=0.16->praw) (2.8)\n",
      "Requirement already satisfied: certifi>=2017.4.17 in c:\\programdata\\anaconda3\\envs\\tfenv\\lib\\site-packages (from requests>=2.3.0->update-checker>=0.16->praw) (2019.3.9)\n",
      "Requirement already satisfied: chardet<3.1.0,>=3.0.2 in c:\\programdata\\anaconda3\\envs\\tfenv\\lib\\site-packages (from requests>=2.3.0->update-checker>=0.16->praw) (3.0.4)\n",
      "Installing collected packages: update-checker, prawcore, websocket-client, praw\n",
      "Successfully installed praw-6.3.1 prawcore-1.0.1 update-checker-0.16 websocket-client-0.56.0\n",
      "Collecting psaw\n",
      "  Using cached https://files.pythonhosted.org/packages/60/b7/6724defc12bdcc45470e2b1fc1b978367f3d183ec6c6baa2770a0b083fc7/psaw-0.0.7-py3-none-any.whl\n",
      "Requirement already satisfied: requests in c:\\programdata\\anaconda3\\envs\\tfenv\\lib\\site-packages (from psaw) (2.21.0)\n",
      "Requirement already satisfied: urllib3<1.25,>=1.21.1 in c:\\programdata\\anaconda3\\envs\\tfenv\\lib\\site-packages (from requests->psaw) (1.24.1)\n",
      "Requirement already satisfied: chardet<3.1.0,>=3.0.2 in c:\\programdata\\anaconda3\\envs\\tfenv\\lib\\site-packages (from requests->psaw) (3.0.4)\n",
      "Requirement already satisfied: idna<2.9,>=2.5 in c:\\programdata\\anaconda3\\envs\\tfenv\\lib\\site-packages (from requests->psaw) (2.8)\n",
      "Requirement already satisfied: certifi>=2017.4.17 in c:\\programdata\\anaconda3\\envs\\tfenv\\lib\\site-packages (from requests->psaw) (2019.3.9)\n",
      "Installing collected packages: psaw\n",
      "Successfully installed psaw-0.0.7\n"
     ]
    }
   ],
   "source": [
    "!pip install --user praw\n",
    "!pip install --user psaw"
   ]
  },
  {
   "cell_type": "markdown",
   "metadata": {},
   "source": [
    "## Brief Analysis of (Possible) Dataset"
   ]
  },
  {
   "cell_type": "code",
   "execution_count": 2,
   "metadata": {},
   "outputs": [],
   "source": [
    "import praw\n",
    "from psaw import PushshiftAPI\n",
    "\n",
    "# r = praw.Reddit()\n",
    "api = PushshiftAPI()"
   ]
  },
  {
   "cell_type": "code",
   "execution_count": 3,
   "metadata": {},
   "outputs": [
    {
     "name": "stdout",
     "output_type": "stream",
     "text": [
      "604800\n"
     ]
    }
   ],
   "source": [
    "import datetime as dt\n",
    "import time\n",
    "import re\n",
    "\n",
    "# check date diff\n",
    "start_epoch = int(dt.datetime(2019,4,8).timestamp())\n",
    "end_epoch = int(dt.datetime(2019,4,15).timestamp())\n",
    "\n",
    "# weekly diff\n",
    "epoch_week_time = end_epoch-start_epoch\n",
    "print(end_epoch-start_epoch)"
   ]
  },
  {
   "cell_type": "code",
   "execution_count": 4,
   "metadata": {},
   "outputs": [],
   "source": [
    "# test reddit query of quotes within week of today\n",
    "res = list(api.search_submissions(after=start_epoch,\n",
    "                                  before=end_epoch,\n",
    "                                  subreddit='quotes',\n",
    "                                  filter=['title'],\n",
    "                                  limit=1000))"
   ]
  },
  {
   "cell_type": "code",
   "execution_count": 5,
   "metadata": {},
   "outputs": [
    {
     "data": {
      "text/plain": [
       "415"
      ]
     },
     "execution_count": 5,
     "metadata": {},
     "output_type": "execute_result"
    }
   ],
   "source": [
    "# check for a reasonable length (i.e. < 1000 as specied by bot)\n",
    "len(res)"
   ]
  },
  {
   "cell_type": "code",
   "execution_count": 6,
   "metadata": {},
   "outputs": [],
   "source": [
    "# Check parsing mechanic (only need quotes from data)\n",
    "res_parsed = list(map(lambda x:x.title, res))"
   ]
  },
  {
   "cell_type": "code",
   "execution_count": 7,
   "metadata": {
    "scrolled": true
   },
   "outputs": [
    {
     "name": "stdout",
     "output_type": "stream",
     "text": [
      "\"Take her to the moon for me.\" - Bing Bong (Inside Out)\n",
      "[\"The Devil in the Dark\"] impressed me because it presented the idea, unusual in science fiction then and now, that something weird, and even dangerous, need not be malevolent. That is a lesson that many of today's politicians have yet to learn.― Arthur C. Clarke\n",
      "\"We have a system that increasingly taxes work and subsidizes nonwork.\" — Milton Friedman\n",
      "‘Men fight for liberty and win it with hard knocks; their children brought up easy, let it slip away again, poor fools. And their grandchildren are once again slaves’ - D. H. Lawrence\n",
      "\"Never drink and park. Accidents cause people.\"\n",
      "“Is the poop deck really what I think it is?” -Homer J Simpson\n",
      "“Where ever you go, there you are”\n",
      "\"You must remember to love people and use things, rather than to love things and use people.\" ~Venerable Fulton J. Sheen\n",
      "\"The man who moves a mountain begins by carrying away small stones.\" - Confucius\n",
      "“Everything I have undertaken, everything I have expatiated upon all my life is inseparable from what I have lived. I invented nothing. I’ve been the one and only secretary of my own sensations” - E.M. Cioran\n",
      "“You’re not asking too much, but maybe you are asking the wrong person”\n",
      "\"Yet it is far better to light the candle, than to curse the darkness.\" ~ William L. Watkinson\n",
      "“May you never forget how far you have come and all the miles you have traveled just to get to this place” -Morgan Harper Nichols\n",
      "\"If you dont try then you wont die.\" -akima\n",
      "“The free soul is rare, but you know it when you see it - basically because you feel good, very good, when you are near or with them...”\n",
      "\"Regardless of where you might go, you will always end up on the graveyard\" -Me\n",
      "\"I drink therefore I am.\" - W. C. Fields (died from alcohol-related stomach hemorrhage)\n",
      "\" nobody dies a virgin, life fucks us all\"\n",
      "“When I believe in my ability to do something, there is no such word as no.” - Max Brooks (World War Z, pgs 159-160)\n",
      "“A jellyfish, if you watch it long enough, begins to look like a heart beating...”\n",
      "\"Time is a sort of river of passing events, and strong is its current; no sooner is a thing brought to sight than it is swept by and another takes its place, and this too will be swept away.\" - Marcus Aurelius\n",
      "\"The greater danger for most of us lies not in setting our aim too high and falling short; but in setting our aim too low, and achieving our mark.\" - Michaelangelo\n",
      "‘Your soulmate will be the stranger you recognise’ - R. H. Sin\n",
      "‘Where love rules, there is no will to power; and where power predominates, there love is lacking. The one is the shadow of the other’ - C.G. Jung\n",
      "\"I don't care if you are black, white, straight, bisexual gay, lesbian, short, talk skinny, fat, rich, or poor, if you're nice to me I'll be nice to you, simple as that.\" -Eminem\n",
      "\"The most awful dirty in a human being is not being able to enjoy a clean soul\" (William Ventura)\n",
      "”If you Copy and Do Exactly what a Successful Man or Business Does then You Too Will end up Successful.” Author unknown\n",
      "60 Best Ever Inspirational Life Quotes To Live By - Fashion Lifestyle Blog\n",
      "\"If everything seems under control, you're not going fast enough\" — Mario Andretti\n",
      "\"Good taste is the enemy of comedy.\" — Mel Brooks\n",
      "\"People seem to enjoy things more when they know a lot of other people have been left out of the pleasure.\" — Russell Baker\n",
      "\"Under capitalism, man exploits man. Under communism, it's just the opposite.\" — John Kenneth Galbraith\n",
      "“The biggest communication problem is we do not listen to understand, we listen to reply.” ~Buhda\n",
      "\"Those who approach life like a child playing a game, moving and pushing pieces, possess the power of kings.\" - Heraclitus\n",
      "\"Those who are awake all live in the same world. Those who are asleep live in their own worlds.\" - Heraclitus\n",
      "“I will never completely understand life but I can enjoy it” -Mioshi Williams\n",
      "\"The boisterous sea of liberty is never without a wave.\" — Thomas Jefferson\n",
      "\"Between what is said and not meant, and what is meant and not said, most of love is lost.\" - Khalil Gibran\n",
      "\"A first sign of the beginning of understanding is the wish to die.\" - Franz Kafka (by way of Rob Zombie)\n",
      "“The concept of progress acts as a protective mechanism to shield us from the terrors of the future” -Frank Herbert\n",
      "\"The truth is, no one knows what is going to happen tomorrow, life is a crazy ride, and nothing is guarantee.\" -Eminem\n",
      "“If you're dumb, surround yourself with smart people. If you're smart, surround yourself with smart people who disagree with you.\" - Aaron Sorkin\n",
      "\"It is nice to be important, but it is more important to be nice\" - John Templeton\n",
      "\"A daily dose of daydreaming heals the heart, soothes the soul, and strengthens the imagination.\" - Richelle E. Goodrich\n",
      "\"Between what is said and not meant, and what is meant and not said, most of love is lost.\"-Khalil Jibran\n",
      "\"He who has never learned to obey cannot be a good commander.\" - Aristotle\n",
      "\"Only an armed people can be truly free. Only an unarmed people can ever be enslaved.\" - Aristotle\n",
      "“Don’t underestimate the allure of darkness. Even the purest hearts are drawn to it”. -Klaus Mikaelson\n",
      "“Before you speak, ask yourself: Is it kind, is it necessary, is it true, does it improve the silence?” ― Sathya Sai Baba\n",
      "“I see now that the circumstances of one's birth are irrelevant. It is what you do with the gift of life that determines who you are.” - Mewtwo\n",
      "\"When eating fruit, remember who planted the tree; when drinking clear water, remember who dug the well.\" -Vietnamese Proverb\n",
      "“You have become the very thing you swore to destroy...” - Obi-Wan\n",
      "“Just because you aren’t broken doesn’t mean you can’t be better” - me in the shower\n",
      "\"If journalism is good, it is controversial, by its nature. - Julian Assange\n",
      "“Life is the most realistic game you will ever play. Increase your stats such as intellect or strength by going to the gym or library. Everyone will remember you for being a top player in life, but not everyone will remember you for being a top player in a video game.”\n",
      "\"Capitalism is just spicy Communism\" -Me\n",
      "“Happiness lies not in the mere possession of money; it lies in the joy of achievement, in the thrill of creative effort.” Franklin D. Roosevelt\n",
      "“Hard times create strong men. Strong men create good times. Good times create weak men. And, weak men create hard times.” -G. Michael Hopf﻿\n",
      "\"In love it's essential that couples enjoy good habits,but it's bad to get used to the bad habit of living together without love\" (William Ventura)\n",
      "\"One person's kink is another person's phobia.\" - Myself\n",
      "“Dread it.. run from it.. destiny still arrives.” - Thanos\n",
      "\"You have to surrender to the fact that you are of too many in a highly competitive field where it is difficult to stand out. Over time, through your work, you will demonstrate who you are and what you bring to the field. Just stay with it and keep working.\" — Lisa Kudrow\n",
      "\"Idleness is not doing nothing. Idleness is being free to do anything.\" — Floyd Dell\n",
      "\"I tend to live in the past because most of my life is there.\" — Herb Caen\n",
      "\"It's not that I'm afraid to die, I just don't want to be there when it happens.\" — Woody Allen\n",
      "“The struggle you’re in today is developing the strength you need for tomorrow. Don’t give up.” – Robert Tew\n",
      "\"It is easier for the world to accept a simple lie than a complex truth.\" - Alexis de Tocqueville.\n",
      "\"Strippers are the Google of the streets\"-Dave Chapelle\n",
      "\"The more you know, the more you know you don't know.\" - Aristotle\n",
      "\"A friend of everyone is a friend of no one.\" - Aristotle\n",
      "\"All the art of living lies in a fine mingling of letting go and holding on.\" — Havelock Ellis\n",
      "“The surest way to corrupt a youth is to instruct him to hold in higher esteem those who think alike than those who think differently.” - Nietzsche\n",
      "“One ought to hold on to one’s heart; for if one lets it go, one soon loses control of the head too.” - Nietzsche\n",
      "\"I'm not upset that you lied to me, I'm upset that from now on I can't believe you.\" - Nietzsche\n",
      "\"You don't learn this stuff to use it later. You learn this stuff to be able to pass\" - My maths teacher in my second to last year\n",
      "“How can you achieve your 10 year plan in the next 6 months?” - attributed to Peter Thiel\n",
      "\"Hell isn't other people. Hell is yourself.\" - Ludwig Wittgenstein (on Sartre)\n",
      "“Our bodies are apt to be our autobiographies.” - Frank Gelett Burgess\n",
      "\"The Edge, there is no honest way to describe it. Because the only ones who know where it is, have already gone over.\" Hunter S. Thompson\n",
      "“She wore a thousand faces all to hide her own” -Atticus\n",
      "\"She exists as in dreams. She has no sense of reality. She gets nervous because people are always interrupting her daydreams.\" - Clarice Lispector\n",
      "“The secret of being miserable is to have leisure to bother about whether you are happy or not. The cure for it is occupation.” -- George Bernard Shaw (\"Misalliance\") (1910)\n",
      "“Experience is the name men give to their mistakes.” -Oscar Wilde\n",
      "\"You can tell when someone has everything when they start throwing things away\" - Myself.\n",
      "“Not forgiving someone is like drinking poison and expecting the other person to die”~ Nelson Mandela\n",
      "“Every love story is a tragedy if you wait long enough.”- The Handmaid’s Tale.\n",
      "\"I have never let my schooling interfere with my education. \" -Mark Twain\n",
      "\"I dont even wanna I dont know\"- My biology teacher\n",
      "\"After a certain age, being messy is a sign of misery\" — Porsche Williams\n",
      "\"We now face the danger, which in the past has been the most destructive to the humans: success, plenty, comfort, and ever-increasing leisure. No dynamic people have ever survived these dangers.\" John Steinback\n",
      "\"The surest way of spoiling a pleasure is to start examining your satisfaction.\" C.S. Lewis\n",
      "\"If you understand compound interest, you basically understand the universe.\" Robert Breault\n",
      "\"Walk the second mile.\" John Maxwell\n",
      "\"Keep erasing, and I will keep writing\" -graffiti in downtown Cairo\n",
      "\"Have more than you show, and say less than you know.\"\n",
      "\"Music directly represents the passions of the soul. If one listens to the wrong kind of music, he will become the wrong kind of person.\" - Aristotle\n",
      "\"Everyone may not be good, but there's always something good in everyone. Never judge anyone shortly because every saint has a past and every sinner has a future.\" - Oscar Wilde\n",
      "“Time is all you have. And you may find one day that you have less than you think.” — Randy Pausch\n",
      "\"Doing nothing is very hard to do... you never know when you're finished.\" – Leslie Nielsen\n",
      "“There was a star riding through clouds one night, and I said to the star, ‘Consume me’.” - Virginia Woolf\n",
      "\"If you want to make an apple pie from scratch the first step is inventing the universe.\" - Carl Sagan\n",
      "“You don't need another human being to make your life complete, but let's be honest. Having your wounds kissed by someone who doesn't see them as disasters in your soul, but cracks to put their love into, is the most calming thing in this world.” ― Emery Allen\n",
      "“You don't need another human being to make your life complete, but let's be honest. Having your wounds kissed by someone who doesn't see them as disasters in your soul, but cracks to put their love into, is the most calming thing In this World.” ― Emery Allen\n",
      "\"Since the bicycle makes little demand on material or energy resources, contributes little to pollution, makes a positive contribution to health and causes little death or injury, it can be regarded as the most benevolent of machines.\" —Stuart S. Wilson\n",
      "‪“A society grows great, when old men plant trees who’s shade they will never sit in.” - A Greek proverb. ‬\n",
      "\"The idea is to write it so that people hear it and it slides through the brain and goes straight to the heart.\" Maya Angelou\n",
      "\"What is the purpose of one's life but to be a very small cog in a very big wheel that moves in a forward motion. This wheel has been moving for three billion plus years. May it never stop.\" - Ravi Silari\n",
      "“Whatever you hold in your mind on a consistent basis is exactly what you will experience in your life.” ~ Tony Robbins\n",
      "\"Few people can see genius in someone who has offended them.\" — Robertson Davies\n",
      "\"Rage is the only quality which has kept me, or anybody I have ever studied, writing columns for newspapers.\" — Jimmy Breslin\n",
      "\"Under certain circumstances, profanity provides a relief denied even to prayer.\" — Mark Twain\n",
      "\"Parents were invented to make children happy by giving them something to ignore.\" — Ogden Nash\n",
      "“Honest hearts produce honest actions.” ― Brigham Young\n",
      "“a fervent, a solemn passion is conceived in my heart; it leans to you, draws you to my centre and spring of life, wrap my existence about you–and, kindling in pure, powerful flame, fuses you and me in one.”\n",
      "\"Overthinking will Destroy your Mood. Breathe and let go.\"\n",
      "\"We are no longer happy so soon as we wish to be happier.\" — Walter Savage Landor\n",
      "“When joy is a habit, love is a reflex.” - Bob Goff\n",
      "\"The world had teeth and it could bite you with them anytime it wanted\"- Stephen King\n",
      "“Put not your trust in money, but put your money in trust.” - Oliver Wendell Holmes\n",
      "“Annual income twenty pounds, annual expenditure nineteen six, result happiness. Annual income twenty pounds, annual expenditure twenty pounds ought and six, result misery.” - Wilkins Micawber in David Copperfield by Charles Dickens\n",
      "\"People try to do all sorts of clever and difficult things to improve life instead of doing the simplest, easiest thing-refusing to participate in activities that make life bad.\" - Leo Tolstoy\n",
      "“There was a young man who said though, it seems that I know that I know, but what I would like to see is the I that knows me when I KNOW that I know that I know.“ — Alan Wilson Watts\n",
      "\"If people tell you that you should live your life preparing for the future, do not believe them. Real Life is found only in the present.\" - Leo Tolstoy\n",
      "\"They said I can't rap about bein' broke no more They ain't say I can't rap about coke no more Slut, you think I won't choke no whore Til the vocal cords don't work in her throat no more?!\"\n",
      "“But I am very poorly today and very stupid and hate everybody and everything” - Charles Darwin\n",
      "\"My weaknesses... I wish I could come up with something. I'd probably have the same pause if you asked me what my strengths are. Maybe they're the same thing. \" - Al Pacino\n",
      "“I began to realize how important it was to be an enthusiast in life. If you are interested in something, go at it full speed. Embrace it with both arms, hug it, love it, and above all become passionate about it. Lukewarm is no good.” -Roald Dahl\n",
      "\"I like any reaction I can get with my music. Just anything to get people to think. I mean if you can get a whole room full of drunk, stoned people to actually wake up and think, you're doing something.\" - Jim Morrison\n",
      "“Success is not final, failure is not fatal: it is the courage to continue that counts.” ~ Winston Churchill\n",
      "\"Success is brief. We live between failures and aspirations.\" James Altucher\n",
      "“The beauty of our system is that it isolates everybody. Each person is sitting alone in front of the tube, you know. It’s very hard to have ideas or thoughts under those circumstances. You can’t fight the world alone.” - Noam Chomsky\n",
      "“If you quietly accept and go along no matter what your feelings are, ultimately you internalize what you’re saying, because it’s too hard to believe one thing and say another. - Noam Chomsky\n",
      "“If you can’t say no, it means nothing when you say yes.”\n",
      "“If you can’t say no, then it means nothing when you say yes.”\n",
      "“Learn to be a leader, by following” -Joe Fall\n",
      "“Don't mistake my kindness for weakness. I am kind to everyone, but when someone is unkind to me, weak is not what you are going to remember about me.” ― Al Capone\n",
      "“If the glove doesn’t fit, give up” -Charlie’s uncle\n",
      "\"The more one is absorbed in fighting Evil, the less one is tempted to place the Good in question.\"\n",
      "\" The past is the beginning of the beginning and all that is and has been but the twilight of dawn\" -H. G. Wells\n",
      "\"A successful man is one who can lay a firm foundation with the bricks that others have thrown at him.\" -David Brinkley\n",
      "“He who wants to do good knocks at the gate: he who loves finds the door open.” ― Rabindranath Tagore\n",
      "“The enemy is within the gates; it is with our own luxury, our own folly, our own criminality that we have to contend.” - Cicero\n",
      "\"He is his own best friend and takes delight in privacy whereas the man of no virtue or ability is his own worst enemy and is afraid of solitude.\" - Aristotle\n",
      "\"The difference between a learned man and an ignorant one is the same as that between a living man and a corpse.\" - Aristotle\n",
      "\"Life isn’t divided into genres. It’s a horrifying, romantic, tragic, comical, science-fiction cowboy detective novel. You know, with a bit of pornography if you're lucky.\" — Alan Moore\n",
      "\"It's easier to pretend a smile,than to pretend that you've always been happy\" (William Ventura)\n",
      "\"The difference between a mountain and a molehill is your perspective.\" - Allen Neuharth\n",
      "\"If you just set out to be liked, you would be prepared to compromise on anything at any time,and you would achieve nothing.\"-Margaret Thatcher\n",
      "“Failure is a bend in the road, not the end of the road. Learn from failure and keep moving forward.” - Roy T. Bennett\n",
      "\"He who lives without folly isn't so wise as he thinks.\" — Francois de La Rochefoucauld\n",
      "\"Listening, not imitation, may be the sincerest form of flattery.\" — Dr. Joyce Brothers\n",
      "\"Trying to be a first-rate reporter on the average American newspaper is like trying to play Bach's 'St. Matthew's Passion' on a ukulele.\" — Bagdikian's Observation\n",
      "\"From one thing, know ten thousand things\" Miyamoto Musashi\n",
      "\"What is the one Goal, if Completed, that could Change Everything?\" Timothy Ferriss\n",
      "“He who loses wealth loses much; he who loses a friend loses more; but he that loses his courage loses all.” ― Miguel de Cervantes\n",
      "“How thoughtful of God to arrange matters so that, wherever you happen to be born, the local religion always turns out to be the true one.” Richard Dawkins\n",
      "\"Imprisonment of the body is bitter; imprisonment of the mind is worse.\" -Thornton Wilder\n",
      "\"Imprisonment of the body is bitter; imprisonment of the mind is worse.\" - Thornton Wilder\n",
      "\"The souls of people, on their way to Earth-life, pass through a room full of lights; each takes a taper - often only a spark - to guide it in the dim country of this world. - Plato (continued below)\n",
      "\"There is, and there always has been, an unusually high and consistent correlation between the stupidity of a given person and that person's propensity to be impressed by the measurement of I.Q\" -Christopher Hitchens\n",
      "\"The more you know, the less you fear.\" - Chris Hadfield\n",
      "\"Men do not care how nobly they live, but only how long, although it is within the reach of every man to live nobly, but within no man's power to live long.\" - Seneca\n",
      "\"Do not sing me your praises. Praises are for great men, and I am no great man.\"\n",
      "\"If you want different outcomes than the ones you're getting, you have to do different things. If you want things to change a little bit, you have to change the way you think and behave a little bit. If you want things to change a lot, you have to change the way you think and behave a lot.\"\n",
      "\"Life is tough, darling, but so are you.\" - Unknown\n",
      "\"Only mediocrity can be trusted to be always at its best.\" - Max Beerbohm\n",
      "\"You all quit breathing, your fogging up my window.\" - my bus driver\n",
      "\"Be the change you want to see in yourself\"- anonymous\n",
      "\"There's some pain that needs a solution, and some pain that needs a story\" -Gianpiero Petriglieri\n",
      "“Challenges are what make life interesting and overcoming them is what makes life meaningful.” ~ Joshua Marine\n",
      "\"Our doubts are traitors, / And make us lose the good we oft might win / By fearing to attempt.\" - William Shakespeare,\n",
      "“Sometimes when you’re in a dark place you think you’ve been buried, but you’ve actually been planted.” - Christine Caine\n",
      "[Looking for] Quote about the tragedy that the brightest minds go to work for the financial sector rather than change the world\n",
      "\"Great minds discuss ideas; average minds discuss events; small minds discuss people.\"- Eleanor Roosevelt\n",
      "“I would rather be governed by the first 2,000 people in the telephone directory than by the Harvard University faculty.” -- William F. Buckley, Jr. (1961)\n",
      "“I would rather be been governed by the first 2,000 people in the telephone directory than by the Harvard University faculty.” -- William F. Buckley, Jr. (1961)\n",
      "\"We only obey laws that coincide with the ones we make\" — Count Bass D\n",
      "\"Great men are like eagles, and build their nest on some lofty solitude.\" -Arthur Schopenhauer\n",
      "\"Great men are like eagles, and build their nest on some lofty solitude.\" - Arthur Schopenhauer\n",
      "\"Almost all of our sorrows spring out of our relations with other people.\" -Arthur Schopenhauer\n",
      "\"Almost all of our sorrows spring out of our relations with other people.\" - Arthur Schopenhauer\n",
      "“He who cannot be a good follower cannot be a good leader.” ― Aristotle\n",
      "“I’d rather regret the things I’ve done than regret the things I haven’t done.” - Lucille Ball\n",
      "\"I like long walks, especially when they are taken by people who annoy me.\" - Fred Allen\n",
      "\"You only live once, but if you do it right, once is enough.\" - Mae West\n",
      "“It is easier to turn a mountain into dust than to create love in a heart that is filled with hatred.” – Hazrat Ali (RA)\n",
      "\"Difficult as it is really to listen to someone in affliction, it is just as difficult for him to know that compassion is listening to him.\" -Simone Weil\n",
      "\"It's a dangerous business going out your front door.\" — J. R. R. Tolkien\n",
      "\"Die? I should say not, dear fellow. No Barrymore would allow such a conventional thing to happen to him.\" — John Barrymore\n",
      "\"Antonym, n.: The opposite of the word you're trying to think of.\" — Unknown\n",
      "\"No man is rich enough to buy back his past.\" - Oscar Wilde\n",
      "\"To become a spectator of one's own life is to escape the suffering of life.\" - Oscar Wilde\n",
      "“We are all alone, born alone, die alone, and—in spite of True Romance magazines—we shall all someday look back on our lives and see that, in spite of our company, we were alone the whole way. I do not say lonely—at least, not all the time—but essentially, and finally, alone...\n",
      "\"Intelligence is a very valuable thing, and usually it comes far too late.\" - Alfie Solomon\n",
      "“Man is condemned to be free, for once he is thrown into the world, he is responsible for everything he does.” - Jean Paul Sartre\n",
      "\"Nothing is permanent, so you should be happy with what you got\" ~Thiru the Dosa man﻿\n",
      "\"Good is the enemy of Best.\"\n",
      "“It’s a dog-eat-dog world and I’m wearing Milk Bone underwear.” Cliff Clavin (Cheers)\n",
      "\"A happy marriage is a long conversation which always seems too short.\" – Andre Maurois\n",
      "\"A man is a success if he gets up in the morning and goes to bed at night, and in between he does what he wants to do.\" - Bob Dylan\n",
      "\"Everything in moderation, including moderation.\" - Oscar Wilde\n",
      "\"Only entropy comes easy.\" - Anton Chekhov\n",
      "\"I may not have gone where I intended to go, but I think I have ended up where I needed to be.\" - Douglas Adams\n",
      "\"We are what we repeatedly do. Excellence, then, is not an act, but a habit.\" ~ Aristotle\n",
      "\"When you love what you do, you don't count hours, you just count the joy on people's faces as they leave the theatre.\" - Patrick Ward\n",
      "&gt; “Birds born in a cage think flying is an illness.” by Alejandro Jodorowsky\n",
      "\"You truly know when you've become an adult when you are allowed to eat more biscuits than you have hands\"\n",
      "“There he goes. One of God's own prototypes. Some kind of high powered mutant never even considered for mass production. Too weird to live, and too rare to die.” - Hunter S. Thompson, Fear and Loathing in Las Vegas.\n",
      "\"Any dream dreamed too long becomes a nightmare, and from those, we awake screaming\" -Andrzej Sapkowski\n",
      "“Wrong does not cease to be wrong because the majority share in it.” - Leo Tolstoy\n",
      "\"I used to think my life was a tragedy, but now I realize it's a comedy.\" - Joker\n",
      "\"Admit it. The cookie dough is usually better than the actual cookies.\" - Unknown\n",
      "“Happiness lies in the joy of achievement and the thrill of creative effort.” ― Franklin D. Roosevelt\n",
      "\"She gave me this cactus, said 'It's kinda like me It'll hurt you to hold it, but it blooms every spring'\"\n",
      "\"Life without pain has no meaning.\" -Arthur Schopenhauer\n",
      "\"Life without pain has no meaning.\" - Arthur Schopenhauer\n",
      "\"I don’t want to earn my living; I want to live.\" - Oscar Wilde\n",
      "“You can’t change the past but you can forge the future by living in the present”\n",
      "“Where some have a self, a starting point, most people have a void, because they are so busy projecting themselves as this or that, dedicating their lives to actualize a concept of what they should be like.” -Bruce Lee\n",
      "“I would venture to guess that Anon, who wrote so many poems without signing them, was often a woman.” ― Virginia Woolf\n",
      "\"Sometimes you must Hurt in order to Know, Fall in order to Grow, Lose in order to Gain, because life's greatest lessons are learned through Pain.\" ― Masashi Kishimoto\n",
      "\"When everyone knows you’re a monster, you needn’t waste time doing every monstrous thing.\" - Leigh Bardugo (Six of Crows)\n",
      "\"You are enough to drive a Saint to madness, or a King to his knees\"\n",
      "\"The measure of a man is what he does with power.\" – Plato\n",
      "\"We don't pick who we fall in love with\"\n",
      "\"Fervor is the weapon of choice for the impotent.\" — Frantz Fanon\n",
      "\"There's always somebody who is paid too much, and taxed too little - and it's always somebody else.\" — Cullen Hightower\n",
      "\"The louder he talked of his honor, the faster we counted our spoons.\" — Ralph Waldo Emerson\n",
      "\"Health nuts are going to feel stupid someday, lying in hospitals dying of nothing.\" — Redd Foxx\n",
      "\"Do It Or Do Not Do It: You Will Regret Both.\"\n",
      "“Some people never go crazy. What truly horrible lives they must lead” — Charles Bukowski\n",
      "“I can live with no responsibility whatsoever, but the price I pay is that nothing matters. Or I can reverse it and everything matters, but I have to take the responsibility that is associated with that.” - Jordan Peterson\n",
      "\"Life is but thought.\" — Sara Teasdale\n",
      "“Happiness is not something you postpone for the future; it is something you design for the present.” ― Jim Rohn\n",
      "“The first step towards getting somewhere is to decide you’re not going to stay where you are.” —JP Morgan\n",
      "“If someone tells you that you hurt them, you don’t get to decide that you didn’t.”\n",
      "\"Bloodshed gives way to more bloodshed. Hatred breeds more hatred. Until all of the violence soaks into the land, carving rivers of blood. And no matter how many times it happens, they never learn. Humans are made up of violent, miserable fools.\" -fullmetal alchemis\n",
      "“May you find what you seek.” - unknown origin (ancient curse)\n",
      "\"Suck my ass dickboys, I'm going to the fuckin' moon!\" - Neil Armstrong\n",
      "“Either America will destroy ignorance or ignorance will destroy the United States” - W.E.B. DuBois\n",
      "“There is nothing more insulting than success.” -Arsepick\n",
      "\"Every great dream begins with a dreamer. Always remember, you have within you the strength, the patience, and the passion to reach for the stars to change the world.\" - Harriet Tubman\n",
      "\"I don't let thy demons get the best of me\" -You\n",
      "\"Nothing is as Dangerous as an Ignorant Friend; A Wise Enemy is to be Preferred.\" -Jean de La Fontaine.\n",
      "\"I'll believe that a corporation is a human when Texas executes one.\" --Bill Moyers\n",
      "\"If you get tired, learn to rest, not to quit.\"\n",
      "\"You change how you want to change, don't let anyone do the changing for you\"\n",
      "\"Some people don't accept change, those people will judge you for how they perceived you when they first met you and got to know you, when change comes along they won't like it, they will be against it, they will entrap you and try and stop the change, don't let them change you, be yourself\"\n",
      "\"What a nonsense question is \"How did we exist?\" while we are vanishing with our own hands. Ezhel\n",
      "\"Rise above the storm and you will find the sunshine \" -UNKOWN\n",
      "“It was character that got us out of bed, commitment that moved us into action, and discipline that enabled us to follow through.” ~ Zig Ziglar\n",
      "“Sanity may be madness but the maddest of all is to see life as it is and not as it should be.”- Don Quixote\n",
      "\"Enlightenment is not like a sudden realization of something mysterious. Enlightenment is nothing but awakening from illusions and returning to the reality of life.\" - Kosho Uchiyama\n",
      "\"everybody may not think of life the same way.. but everybody sure as hell does experiences the pain they receive in life the same way\" - Unknown\n",
      "\"Sometimes there just isn't enough time or energy\"\n",
      "\" In the end, it's not the years in your life that count. It's the life in your years. \" - Abraham Lincoln\n",
      "\"One can be the master of what one does, but never of what one feels.\" - Gustave Flaubert\n",
      "\" We judge ourselves by what we feel capable of doing,while others judge us by what we have already done.\" - Longfellow\n",
      "“Happiness is a choice. You can choose to be happy. There’s going to be stress in life, but it’s your choice whether you let it affect you or not.” ― Valerie Bertinelli\n",
      "\"I used to think my life was a tragedy, but now I realize it's a comedy.\" - Joker\n",
      "\"Sometimes I think that the one thing I love most about being an adult is the right to buy candy whenever and wherever I want.\" - Ryan Gosling\n",
      "\"Be your own spectator; seek your own applause.” – Seneca\n",
      "\"It is difficult to find happiness within oneself, but it is impossible to find it anywhere else.\" - Arthur Schopenhauer\n",
      "“Sometimes life coughs up coincidences no writer of fiction would dare copy” -Stephen King (11/22/63)\n",
      "“Those who forget good and evil and seek only to know the facts are more likely to achieve good than those who view the world through the distorting medium of their own desires.” - Bertrand Russell\n",
      "\"No man sees far, most see no farther than their noses.\" - Thomas Carlyle\n",
      "“Gold medals aren’t really made of gold. They’re made of sweat, determination, and a hard-to-find alloy called guts.” ― Dan Gable\n",
      "\"As you get older, you start realizing that outer beauty is ephemeral, while inner beauty can last a lifetime\" -Spanishdict app sentence for yesterday's word-of-the-day\n",
      "“Darkness cannot drive out darkness; only light can do that. Hate cannot drive out hate; only love can do that.” - Martin Luther King Jr.\n",
      "“We must not honor all the opinions of men but some and not others, and not of all men, but some.” - Socrates\n",
      "\"Hating someone makes them important. Forgiving them makes them obsolete.\"\n",
      "\"We must learn to live together as brothers or perish together as fools.\" - Martin Luther King JR.\n",
      "\"Choosing to be positive and having a grateful attitude is going to determine how you're going to live your life. Joel Osteen\n",
      "“If you love a flower, don’t pick it up. Because if you pick it up it dies and it ceases to be what you love. So if you love a flower, let it be. Love is not about possession. Love is about appreciation.” - Osho\n",
      "\"God, grant me the serenity to accept the things I cannot change, courage to change the things I can, and wisdom to know the difference.\" - Reinhold Niebuhr\n",
      "\"We need not to be let alone. We need to be really bothered once in a while. How long is it since you were really bothered? About something important, about something real?\" — Ray Bradbury\n",
      "\"I haven't spoken to my wife in years. I didn't want to interrupt her.\" — Rodney Dangerfield\n",
      "\"To disagree with three-fourths of the British public is one of the first requisites of sanity.\" — Oscar Wilde\n",
      "\"All of us learn to write in the second grade. Most of us go on to greater things.\" — Bobby Knight\n",
      "\"We can understand one another; but each one is able to explain only himself\" - Hermann Hesse\n",
      "\"To do the useful thing, to say the courageous thing, to contemplate the beautiful thing: that is enough for one man's life.” T. S. Eliot\n",
      "\"Tomorrow is a hope, never a promise.\" ~ Lamb (Kindred)\n"
     ]
    }
   ],
   "source": [
    "# Note that text is properly formatted, but quotations vary wildly!\n",
    "# For now, these quotation marks will be stripped from the text\n",
    "# Text format most often : (\"/'/“)Quote(\"/'/“) - Person\n",
    "# Most rudimentary check would be to enforce that first char is not a letter\n",
    "for quote in res_parsed:\n",
    "    if not quote[0].isalpha():\n",
    "        print(quote.strip())"
   ]
  },
  {
   "cell_type": "markdown",
   "metadata": {},
   "source": [
    "The above seems decent enough. Hopefully, the presence of many more correctly formed quotes will convince the network to make true quotes more often than not.\n",
    "\n",
    "Note that the different characters used between the quotes and the person the quote is attributed to might cause issues. This is easily adjusted before taking the character into the dataset. There are a couple other things that can be noticed but we ignore this for now as they can be properly ignored using Python."
   ]
  },
  {
   "cell_type": "markdown",
   "metadata": {},
   "source": [
    "## Scraping"
   ]
  },
  {
   "cell_type": "code",
   "execution_count": 8,
   "metadata": {
    "scrolled": true
   },
   "outputs": [
    {
     "name": "stdout",
     "output_type": "stream",
     "text": [
      "Evaluating query #1. Dataset size: 282\n",
      "Evaluating query #2. Dataset size: 573\n",
      "Evaluating query #3. Dataset size: 878\n",
      "Evaluating query #4. Dataset size: 1192\n",
      "Evaluating query #5. Dataset size: 1541\n",
      "Evaluating query #6. Dataset size: 1869\n",
      "Evaluating query #7. Dataset size: 2180\n",
      "Evaluating query #8. Dataset size: 2490\n",
      "Evaluating query #9. Dataset size: 2798\n",
      "Evaluating query #10. Dataset size: 3079\n",
      "Evaluating query #11. Dataset size: 3364\n",
      "Evaluating query #12. Dataset size: 3670\n",
      "Evaluating query #13. Dataset size: 3951\n",
      "Evaluating query #14. Dataset size: 4273\n",
      "Evaluating query #15. Dataset size: 4552\n",
      "Evaluating query #16. Dataset size: 4832\n",
      "Evaluating query #17. Dataset size: 5138\n",
      "Evaluating query #18. Dataset size: 5426\n",
      "Evaluating query #19. Dataset size: 5703\n",
      "Evaluating query #20. Dataset size: 5980\n",
      "Evaluating query #21. Dataset size: 6262\n",
      "Evaluating query #22. Dataset size: 6555\n",
      "Evaluating query #23. Dataset size: 6865\n",
      "Evaluating query #24. Dataset size: 7123\n",
      "Evaluating query #25. Dataset size: 7407\n",
      "Evaluating query #26. Dataset size: 7612\n",
      "Evaluating query #27. "
     ]
    },
    {
     "name": "stderr",
     "output_type": "stream",
     "text": [
      "C:\\Users\\brian\\AppData\\Roaming\\Python\\Python37\\site-packages\\psaw\\PushshiftAPI.py:153: UserWarning: Unable to connect to pushshift.io. Retrying after backoff.\n",
      "  warnings.warn(\"Unable to connect to pushshift.io. Retrying after backoff.\")\n"
     ]
    },
    {
     "name": "stdout",
     "output_type": "stream",
     "text": [
      "Dataset size: 7867\n",
      "Evaluating query #28. Dataset size: 8106\n",
      "Evaluating query #29. Dataset size: 8339\n",
      "Evaluating query #30. Dataset size: 8629\n",
      "Evaluating query #31. Dataset size: 8862\n",
      "Evaluating query #32. Dataset size: 9107\n",
      "Evaluating query #33. Dataset size: 9347\n",
      "Evaluating query #34. Dataset size: 9586\n",
      "Evaluating query #35. Dataset size: 9789\n",
      "Evaluating query #36. Dataset size: 10017\n",
      "Evaluating query #37. Dataset size: 10252\n",
      "Evaluating query #38. Dataset size: 10483\n",
      "Evaluating query #39. Dataset size: 10726\n",
      "Evaluating query #40. Dataset size: 10932\n",
      "Evaluating query #41. Dataset size: 11123\n",
      "Evaluating query #42. Dataset size: 11324\n",
      "Evaluating query #43. Dataset size: 11486\n",
      "Evaluating query #44. Dataset size: 11686\n",
      "Evaluating query #45. Dataset size: 11910\n",
      "Evaluating query #46. Dataset size: 12136\n",
      "Evaluating query #47. Dataset size: 12383\n",
      "Evaluating query #48. Dataset size: 12595\n",
      "Evaluating query #49. Dataset size: 12773\n",
      "Evaluating query #50. Dataset size: 12992\n",
      "Evaluating query #51. Dataset size: 13187\n",
      "Evaluating query #52. Dataset size: 13384\n",
      "Evaluating query #53. Dataset size: 13608\n",
      "Evaluating query #54. Dataset size: 13884\n",
      "Evaluating query #55. Dataset size: 14082\n",
      "Evaluating query #56. Dataset size: 14284\n",
      "Evaluating query #57. Dataset size: 14486\n",
      "Evaluating query #58. Dataset size: 14678\n",
      "Evaluating query #59. Dataset size: 14885\n",
      "Evaluating query #60. Dataset size: 15134\n",
      "Evaluating query #61. Dataset size: 15316\n",
      "Evaluating query #62. Dataset size: 15511\n",
      "Evaluating query #63. Dataset size: 15729\n",
      "Evaluating query #64. Dataset size: 15946\n",
      "Evaluating query #65. Dataset size: 16151\n",
      "Evaluating query #66. Dataset size: 16347\n",
      "Evaluating query #67. Dataset size: 16569\n",
      "Evaluating query #68. Dataset size: 16734\n",
      "Evaluating query #69. Dataset size: 16916\n",
      "Evaluating query #70. Dataset size: 17133\n",
      "Evaluating query #71. Dataset size: 17305\n",
      "Evaluating query #72. Dataset size: 17524\n",
      "Evaluating query #73. Dataset size: 17704\n",
      "Evaluating query #74. Dataset size: 17882\n",
      "Evaluating query #75. Dataset size: 18137\n",
      "Evaluating query #76. Dataset size: 18318\n",
      "Evaluating query #77. Dataset size: 18503\n",
      "Evaluating query #78. Dataset size: 18691\n",
      "Evaluating query #79. Dataset size: 18879\n",
      "Evaluating query #80. Dataset size: 19063\n",
      "Evaluating query #81. Dataset size: 19260\n",
      "Evaluating query #82. Dataset size: 19442\n",
      "Evaluating query #83. Dataset size: 19639\n",
      "Evaluating query #84. Dataset size: 19842\n",
      "Evaluating query #85. Dataset size: 20020\n",
      "Evaluating query #86. Dataset size: 20200\n",
      "Evaluating query #87. Dataset size: 20395\n",
      "Evaluating query #88. Dataset size: 20605\n",
      "Evaluating query #89. Dataset size: 20796\n",
      "Evaluating query #90. Dataset size: 20966\n",
      "Evaluating query #91. Dataset size: 21117\n",
      "Evaluating query #92. Dataset size: 21273\n",
      "Evaluating query #93. Dataset size: 21453\n",
      "Evaluating query #94. Dataset size: 21605\n",
      "Evaluating query #95. Dataset size: 21744\n",
      "Evaluating query #96. Dataset size: 21882\n",
      "Evaluating query #97. Dataset size: 22057\n",
      "Evaluating query #98. Dataset size: 22213\n",
      "Evaluating query #99. Dataset size: 22394\n",
      "Evaluating query #100. Dataset size: 22575\n",
      "Evaluating query #101. Dataset size: 22779\n",
      "Evaluating query #102. Dataset size: 22971\n",
      "Evaluating query #103. Dataset size: 23176\n",
      "Evaluating query #104. Dataset size: 23411\n",
      "Evaluating query #105. Dataset size: 23608\n",
      "Evaluating query #106. Dataset size: 23848\n",
      "Evaluating query #107. Dataset size: 24096\n",
      "Evaluating query #108. Dataset size: 24376\n",
      "Evaluating query #109. Dataset size: 24617\n",
      "Evaluating query #110. Dataset size: 24854\n",
      "Evaluating query #111. Dataset size: 25112\n",
      "Evaluating query #112. Dataset size: 25409\n",
      "Evaluating query #113. Dataset size: 25696\n",
      "Evaluating query #114. Dataset size: 25931\n",
      "Evaluating query #115. Dataset size: 26179\n",
      "Evaluating query #116. Dataset size: 26466\n",
      "Evaluating query #117. Dataset size: 26714\n",
      "Evaluating query #118. Dataset size: 26929\n",
      "Evaluating query #119. Dataset size: 27133\n",
      "Evaluating query #120. Dataset size: 27306\n",
      "Evaluating query #121. Dataset size: 27532\n",
      "Evaluating query #122. Dataset size: 27723\n",
      "Evaluating query #123. Dataset size: 27911\n",
      "Evaluating query #124. Dataset size: 28174\n",
      "Evaluating query #125. Dataset size: 28363\n",
      "Evaluating query #126. Dataset size: 28567\n",
      "Evaluating query #127. Dataset size: 28858\n",
      "Evaluating query #128. Dataset size: 29088\n",
      "Evaluating query #129. Dataset size: 29270\n",
      "Evaluating query #130. Dataset size: 29438\n",
      "Evaluating query #131. Dataset size: 29651\n",
      "Evaluating query #132. Dataset size: 29874\n",
      "Evaluating query #133. Dataset size: 30054\n"
     ]
    }
   ],
   "source": [
    "# Begin to scrape quotes given the above restriction\n",
    "MAX_QUOTES = 30000\n",
    "MAX_QPM = 150  # max queries per min\n",
    "WAIT_TIME = 61  # wait 61 seconds per MAX_QPM\n",
    "DATASET_NAME = 'currQuotesDataset'\n",
    "datasetSize = 0\n",
    "queryCount = 0\n",
    "\n",
    "# This changes by weeks. Time reduced by epoch_week_time\n",
    "startEpoch = int(dt.datetime(2019,4,8).timestamp())\n",
    "endEpoch = int(dt.datetime(2019,4,15).timestamp())\n",
    "WEEK_DURATION = end_epoch-start_epoch\n",
    "\n",
    "with open(DATASET_NAME, 'w') as quoteCompiler:\n",
    "    while(datasetSize < MAX_QUOTES):\n",
    "        # record start time\n",
    "        startTimestamp = time.time()\n",
    "        \n",
    "        # make requested amount of queries\n",
    "        for queryAttempt in range(MAX_QPM):\n",
    "            if(datasetSize < MAX_QUOTES):\n",
    "                # query counter (mostly for debugging)\n",
    "                queryCount += 1\n",
    "                print('Evaluating query #{}. '.format(queryCount), end='')\n",
    "\n",
    "                # query reddit for given time\n",
    "                res = list(api.search_submissions(after=startEpoch,\n",
    "                                      before=endEpoch,\n",
    "                                      subreddit='quotes',\n",
    "                                      filter=['title'],\n",
    "                                      limit=1000))\n",
    "\n",
    "                # update time for next values\n",
    "                startEpoch -= WEEK_DURATION\n",
    "                endEpoch -= WEEK_DURATION\n",
    "\n",
    "                # process current retrived values in res\n",
    "                res_parsed = list(map(lambda x:x.title, res))\n",
    "                for quote in res_parsed:\n",
    "                    if not quote[0].isalpha(): # if first char not alpha, likely actual quote\n",
    "                        replaced = re.sub(r\"[~―]\",r'-',re.sub(r\"[‘“’”]\",r'\"', quote))  # change some formatting\n",
    "                        asciiQuote = replaced.encode('ascii', 'ignore').decode(\"utf-8\")   # remove ill-formatting\n",
    "                        quoteCompiler.write(asciiQuote+'\\n')    # write quote to dataset\n",
    "                        datasetSize += 1\n",
    "                print('Dataset size: {}'.format(datasetSize))\n",
    "            else:\n",
    "                break\n",
    "        \n",
    "        # wait for end time to reach at least 61 seconds to make another set of requests\n",
    "        # unlikely to be reached since this is single-threaded\n",
    "        while(time.time()-startTimestamp < WAIT_TIME):\n",
    "            time.sleep(1) # waste a second (here to waste time)"
   ]
  },
  {
   "cell_type": "markdown",
   "metadata": {},
   "source": [
    "## Analysis\n",
    "Take a simple look at what the dataset consists of..."
   ]
  },
  {
   "cell_type": "code",
   "execution_count": 9,
   "metadata": {},
   "outputs": [
    {
     "name": "stdout",
     "output_type": "stream",
     "text": [
      "Length of dataset: 3555109 characters\n",
      "96 unique characters\n",
      "['\\n', '\\r', ' ', '!', '\"', '#', '$', '%', '&', \"'\", '(', ')', '*', '+', ',', '-', '.', '/', '0', '1', '2', '3', '4', '5', '6', '7', '8', '9', ':', ';', '<', '=', '>', '?', '@', 'A', 'B', 'C', 'D', 'E', 'F', 'G', 'H', 'I', 'J', 'K', 'L', 'M', 'N', 'O', 'P', 'Q', 'R', 'S', 'T', 'U', 'V', 'W', 'X', 'Y', 'Z', '[', '\\\\', ']', '^', '_', '`', 'a', 'b', 'c', 'd', 'e', 'f', 'g', 'h', 'i', 'j', 'k', 'l', 'm', 'n', 'o', 'p', 'q', 'r', 's', 't', 'u', 'v', 'w', 'x', 'y', 'z', '{', '|', '}']\n"
     ]
    }
   ],
   "source": [
    "DATASET_NAME = 'currQuotesDataset'\n",
    "\n",
    "with open(DATASET_NAME, 'rb') as inFile:\n",
    "    dataQuotes = inFile.read().decode(encoding='utf-8')\n",
    "    \n",
    "print(\"Length of dataset: {} characters\".format(len(dataQuotes)))\n",
    "\n",
    "# unique characters\n",
    "vocab = sorted(set(dataQuotes))\n",
    "print ('{} unique characters'.format(len(vocab)))\n",
    "print(vocab)"
   ]
  },
  {
   "cell_type": "markdown",
   "metadata": {},
   "source": [
    "One thing to note is that there are actually quite a few symobls and such in the text. Training will be attempted with this in here, but will likely need to be removed if it impedes training. Hopefully the constrained format will somewhat alleviate that issue."
   ]
  },
  {
   "cell_type": "markdown",
   "metadata": {},
   "source": [
    "## RNN Setup & Training\n",
    "For this particular setup, the char-RNN setup as used in the given material will be primarily used. As a possible further insight, the word-char-RNN might then be used in order to train the network (that would be a bit iffy though because of the placement of punctuation in this unpolished dataset)."
   ]
  },
  {
   "cell_type": "code",
   "execution_count": 10,
   "metadata": {},
   "outputs": [],
   "source": [
    "import numpy as np\n",
    "import tensorflow as tf\n",
    "tf.enable_eager_execution()\n",
    "\n",
    "import os\n",
    "import time"
   ]
  },
  {
   "cell_type": "code",
   "execution_count": 11,
   "metadata": {},
   "outputs": [
    {
     "name": "stdout",
     "output_type": "stream",
     "text": [
      "{\n",
      "  '\\n':   0,\n",
      "  '\\r':   1,\n",
      "  ' ' :   2,\n",
      "  '!' :   3,\n",
      "  '\"' :   4,\n",
      "  '#' :   5,\n",
      "  '$' :   6,\n",
      "  '%' :   7,\n",
      "  '&' :   8,\n",
      "  \"'\" :   9,\n",
      "  '(' :  10,\n",
      "  ')' :  11,\n",
      "  '*' :  12,\n",
      "  '+' :  13,\n",
      "  ',' :  14,\n",
      "  '-' :  15,\n",
      "  '.' :  16,\n",
      "  '/' :  17,\n",
      "  '0' :  18,\n",
      "  '1' :  19,\n",
      "  ...\n",
      "}\n"
     ]
    }
   ],
   "source": [
    "# Creating a mapping from unique characters to indices\n",
    "char2idx = {u:i for i, u in enumerate(vocab)}\n",
    "idx2char = np.array(vocab)\n",
    "\n",
    "text_as_int = np.array([char2idx[c] for c in dataQuotes])\n",
    "\n",
    "# dictionary preview\n",
    "print('{')\n",
    "for char,_ in zip(char2idx, range(20)):\n",
    "    print('  {:4s}: {:3d},'.format(repr(char), char2idx[char]))\n",
    "print('  ...\\n}')"
   ]
  },
  {
   "cell_type": "code",
   "execution_count": 12,
   "metadata": {},
   "outputs": [
    {
     "name": "stdout",
     "output_type": "stream",
     "text": [
      "'\"Take her to ' ---- characters mapped to int ---- > [ 4 54 67 77 71  2 74 71 84  2 86 81  2]\n"
     ]
    }
   ],
   "source": [
    "# Show how the first 13 characters from the text are mapped to integers\n",
    "print ('{} ---- characters mapped to int ---- > {}'.format(repr(dataQuotes[:13]), text_as_int[:13]))"
   ]
  },
  {
   "cell_type": "code",
   "execution_count": 13,
   "metadata": {},
   "outputs": [
    {
     "name": "stdout",
     "output_type": "stream",
     "text": [
      "WARNING:tensorflow:From C:\\ProgramData\\Anaconda3\\envs\\tfEnv\\lib\\site-packages\\tensorflow\\python\\data\\ops\\iterator_ops.py:532: colocate_with (from tensorflow.python.framework.ops) is deprecated and will be removed in a future version.\n",
      "Instructions for updating:\n",
      "Colocations handled automatically by placer.\n",
      "\"\n",
      "T\n",
      "a\n",
      "k\n",
      "e\n"
     ]
    }
   ],
   "source": [
    "# The maximum length sentence we want for a single input in characters\n",
    "seq_length = 100                                      # HYPERPARAMETER\n",
    "examples_per_epoch = len(dataQuotes)//seq_length      # HYPERPARAMETER\n",
    "\n",
    "# Create training examples / targets\n",
    "char_dataset = tf.data.Dataset.from_tensor_slices(text_as_int)\n",
    "\n",
    "for i in char_dataset.take(5):\n",
    "  print(idx2char[i.numpy()])"
   ]
  },
  {
   "cell_type": "code",
   "execution_count": 15,
   "metadata": {},
   "outputs": [
    {
     "name": "stdout",
     "output_type": "stream",
     "text": [
      "'\"Take her to the moon for me.\" - Bing Bong (Inside Out)\\r\\n[\"The Devil in the Dark\"] impressed me becau'\n",
      "'se it presented the idea, unusual in science fiction then and now, that something weird, and even dan'\n",
      "\"gerous, need not be malevolent. That is a lesson that many of today's politicians have yet to learn.-\"\n",
      "' Arthur C. Clarke\\r\\n\"We have a system that increasingly taxes work and subsidizes nonwork.\"  Milton Fr'\n",
      "'iedman\\r\\n\"Men fight for liberty and win it with hard knocks; their children brought up easy, let it sl'\n"
     ]
    }
   ],
   "source": [
    "# sample of batching (which would be used in training)\n",
    "sequences = char_dataset.batch(seq_length+1, drop_remainder=True)\n",
    "\n",
    "for item in sequences.take(5):\n",
    "  print(repr(''.join(idx2char[item.numpy()])))"
   ]
  },
  {
   "cell_type": "markdown",
   "metadata": {},
   "source": [
    "I think the fact that batching is done this way might exacerbate the ill-formatting issue, but I'll leave it as is for now. Word RNN's would be unable to recreate \"names\" or \"sources\" in the same way that a char-RNN would."
   ]
  },
  {
   "cell_type": "code",
   "execution_count": 16,
   "metadata": {},
   "outputs": [],
   "source": [
    "def split_input_target(chunk):\n",
    "    input_text = chunk[:-1]\n",
    "    target_text = chunk[1:]\n",
    "    return input_text, target_text\n",
    "\n",
    "dataset = sequences.map(split_input_target)"
   ]
  },
  {
   "cell_type": "code",
   "execution_count": 17,
   "metadata": {},
   "outputs": [
    {
     "name": "stdout",
     "output_type": "stream",
     "text": [
      "Input data:  '\"Take her to the moon for me.\" - Bing Bong (Inside Out)\\r\\n[\"The Devil in the Dark\"] impressed me beca'\n",
      "Target data: 'Take her to the moon for me.\" - Bing Bong (Inside Out)\\r\\n[\"The Devil in the Dark\"] impressed me becau'\n"
     ]
    }
   ],
   "source": [
    "for input_example, target_example in  dataset.take(1):\n",
    "    print ('Input data: ', repr(''.join(idx2char[input_example.numpy()])))\n",
    "    print ('Target data:', repr(''.join(idx2char[target_example.numpy()])))"
   ]
  },
  {
   "cell_type": "code",
   "execution_count": 18,
   "metadata": {},
   "outputs": [
    {
     "name": "stdout",
     "output_type": "stream",
     "text": [
      "Step    0\n",
      "  input: 4 ('\"')\n",
      "  expected output: 54 ('T')\n",
      "Step    1\n",
      "  input: 54 ('T')\n",
      "  expected output: 67 ('a')\n",
      "Step    2\n",
      "  input: 67 ('a')\n",
      "  expected output: 77 ('k')\n",
      "Step    3\n",
      "  input: 77 ('k')\n",
      "  expected output: 71 ('e')\n",
      "Step    4\n",
      "  input: 71 ('e')\n",
      "  expected output: 2 (' ')\n"
     ]
    }
   ],
   "source": [
    "for i, (input_idx, target_idx) in enumerate(zip(input_example[:5], target_example[:5])):\n",
    "    print(\"Step {:4d}\".format(i))\n",
    "    print(\"  input: {} ({:s})\".format(input_idx, repr(idx2char[input_idx])))\n",
    "    print(\"  expected output: {} ({:s})\".format(target_idx, repr(idx2char[target_idx])))"
   ]
  },
  {
   "cell_type": "code",
   "execution_count": 19,
   "metadata": {},
   "outputs": [
    {
     "data": {
      "text/plain": [
       "<DatasetV1Adapter shapes: ((64, 100), (64, 100)), types: (tf.int32, tf.int32)>"
      ]
     },
     "execution_count": 19,
     "metadata": {},
     "output_type": "execute_result"
    }
   ],
   "source": [
    "# Batch size \n",
    "BATCH_SIZE = 64                                   # HYPERPARAMETER\n",
    "steps_per_epoch = examples_per_epoch//BATCH_SIZE\n",
    "\n",
    "# Buffer size to shuffle the dataset\n",
    "# (TF data is designed to work with possibly infinite sequences, \n",
    "# so it doesn't attempt to shuffle the entire sequence in memory. Instead, \n",
    "# it maintains a buffer in which it shuffles elements).\n",
    "BUFFER_SIZE = 10000\n",
    "\n",
    "dataset = dataset.shuffle(BUFFER_SIZE).batch(BATCH_SIZE, drop_remainder=True)\n",
    "\n",
    "dataset"
   ]
  },
  {
   "cell_type": "markdown",
   "metadata": {},
   "source": [
    "### MODEL"
   ]
  },
  {
   "cell_type": "code",
   "execution_count": 20,
   "metadata": {},
   "outputs": [],
   "source": [
    "# Length of the vocabulary in chars\n",
    "vocab_size = len(vocab)\n",
    "\n",
    "# The embedding dimension \n",
    "embedding_dim = 256\n",
    "\n",
    "# Number of RNN units\n",
    "rnn_units = 1024\n",
    "\n",
    "# COMMENT OR UNCOMMENT THESE BASED ON WHICH NETWORK TO USE\n",
    "# rnn = tf.keras.layers.CuDNNGRU\n",
    "rnn = tf.keras.layers.CuDNNLSTM\n",
    "\n",
    "# AND THESE GET CHOSEN ACCORDINGLY TO ABOVE\n",
    "# checkpoint_dir = './training_checkpoints'\n",
    "checkpoint_dir = './training_checkpoints_lstm'\n",
    "    \n",
    "def build_model(vocab_size, embedding_dim, rnn_units, batch_size):\n",
    "    model = tf.keras.Sequential([tf.keras.layers.Embedding(vocab_size, embedding_dim, batch_input_shape=[batch_size, None]),\n",
    "                                    rnn(rnn_units, return_sequences=True, \n",
    "                                        recurrent_initializer='glorot_uniform', stateful=True),\n",
    "                                    tf.keras.layers.Dense(vocab_size)\n",
    "                                  ])\n",
    "    return model"
   ]
  },
  {
   "cell_type": "code",
   "execution_count": 21,
   "metadata": {},
   "outputs": [],
   "source": [
    "model = build_model(\n",
    "  vocab_size = len(vocab), \n",
    "  embedding_dim=embedding_dim, \n",
    "  rnn_units=rnn_units, \n",
    "  batch_size=BATCH_SIZE)"
   ]
  },
  {
   "cell_type": "code",
   "execution_count": 22,
   "metadata": {},
   "outputs": [
    {
     "name": "stdout",
     "output_type": "stream",
     "text": [
      "(64, 100, 96) # (batch_size, sequence_length, vocab_size)\n"
     ]
    }
   ],
   "source": [
    "for input_example_batch, target_example_batch in dataset.take(1): \n",
    "  example_batch_predictions = model(input_example_batch)\n",
    "  print(example_batch_predictions.shape, \"# (batch_size, sequence_length, vocab_size)\")"
   ]
  },
  {
   "cell_type": "code",
   "execution_count": 23,
   "metadata": {},
   "outputs": [
    {
     "name": "stdout",
     "output_type": "stream",
     "text": [
      "_________________________________________________________________\n",
      "Layer (type)                 Output Shape              Param #   \n",
      "=================================================================\n",
      "embedding (Embedding)        (64, None, 256)           24576     \n",
      "_________________________________________________________________\n",
      "cu_dnnlstm (CuDNNLSTM)       (64, None, 1024)          5251072   \n",
      "_________________________________________________________________\n",
      "dense (Dense)                (64, None, 96)            98400     \n",
      "=================================================================\n",
      "Total params: 5,374,048\n",
      "Trainable params: 5,374,048\n",
      "Non-trainable params: 0\n",
      "_________________________________________________________________\n"
     ]
    }
   ],
   "source": [
    "model.summary()"
   ]
  },
  {
   "cell_type": "code",
   "execution_count": 24,
   "metadata": {},
   "outputs": [
    {
     "name": "stdout",
     "output_type": "stream",
     "text": [
      "Prediction shape:  (64, 100, 96)  # (batch_size, sequence_length, vocab_size)\n",
      "scalar_loss:       4.5639896\n"
     ]
    }
   ],
   "source": [
    "def loss(labels, logits):\n",
    "    return tf.keras.losses.sparse_categorical_crossentropy(labels, logits, from_logits=True)\n",
    "\n",
    "example_batch_loss  = loss(target_example_batch, example_batch_predictions)\n",
    "print(\"Prediction shape: \", example_batch_predictions.shape, \" # (batch_size, sequence_length, vocab_size)\") \n",
    "print(\"scalar_loss:      \", example_batch_loss.numpy().mean())"
   ]
  },
  {
   "cell_type": "code",
   "execution_count": 25,
   "metadata": {},
   "outputs": [],
   "source": [
    "model.compile(\n",
    "    optimizer = tf.train.AdamOptimizer(),\n",
    "    loss = loss)\n",
    "\n",
    "# Name of the checkpoint files\n",
    "checkpoint_prefix = os.path.join(checkpoint_dir, \"ckpt_{epoch}\")\n",
    "\n",
    "checkpoint_callback=tf.keras.callbacks.ModelCheckpoint(\n",
    "    filepath=checkpoint_prefix,\n",
    "    save_weights_only=True)"
   ]
  },
  {
   "cell_type": "code",
   "execution_count": 26,
   "metadata": {},
   "outputs": [
    {
     "name": "stdout",
     "output_type": "stream",
     "text": [
      "Epoch 1/100\n",
      "554/555 [============================>.] - ETA: 0s - loss: 2.0814WARNING:tensorflow:From C:\\ProgramData\\Anaconda3\\envs\\tfEnv\\lib\\site-packages\\tensorflow\\python\\keras\\engine\\network.py:1436: update_checkpoint_state (from tensorflow.python.training.checkpoint_management) is deprecated and will be removed in a future version.\n",
      "Instructions for updating:\n",
      "Use tf.train.CheckpointManager to manage checkpoints rather than manually editing the Checkpoint proto.\n",
      "555/555 [==============================] - 56s 100ms/step - loss: 2.0805\n",
      "Epoch 2/100\n",
      "555/555 [==============================] - 27s 49ms/step - loss: 1.4650\n",
      "Epoch 3/100\n",
      "555/555 [==============================] - 26s 47ms/step - loss: 1.3260\n",
      "Epoch 4/100\n",
      "555/555 [==============================] - 26s 48ms/step - loss: 1.2557\n",
      "Epoch 5/100\n",
      "555/555 [==============================] - 26s 48ms/step - loss: 1.2058\n",
      "Epoch 6/100\n",
      "555/555 [==============================] - 27s 48ms/step - loss: 1.1658\n",
      "Epoch 7/100\n",
      "555/555 [==============================] - 27s 48ms/step - loss: 1.1301\n",
      "Epoch 8/100\n",
      "555/555 [==============================] - 26s 48ms/step - loss: 1.0974 1s -  - ETA: 0s - loss: 1.0\n",
      "Epoch 9/100\n",
      "555/555 [==============================] - 26s 48ms/step - loss: 1.0652\n",
      "Epoch 10/100\n",
      "555/555 [==============================] - 27s 49ms/step - loss: 1.0366\n",
      "Epoch 11/100\n",
      "555/555 [==============================] - 25s 45ms/step - loss: 1.0081\n",
      "Epoch 12/100\n",
      "555/555 [==============================] - 25s 45ms/step - loss: 0.9813\n",
      "Epoch 13/100\n",
      "555/555 [==============================] - 25s 46ms/step - loss: 0.9567\n",
      "Epoch 14/100\n",
      "555/555 [==============================] - 25s 46ms/step - loss: 0.9329\n",
      "Epoch 15/100\n",
      "555/555 [==============================] - 25s 44ms/step - loss: 0.9130 1\n",
      "Epoch 16/100\n",
      "555/555 [==============================] - 25s 45ms/step - loss: 0.8934\n",
      "Epoch 17/100\n",
      "555/555 [==============================] - 25s 45ms/step - loss: 0.8765\n",
      "Epoch 18/100\n",
      "555/555 [==============================] - 25s 45ms/step - loss: 0.8616\n",
      "Epoch 19/100\n",
      "555/555 [==============================] - 25s 45ms/step - loss: 0.8478\n",
      "Epoch 20/100\n",
      "555/555 [==============================] - 25s 45ms/step - loss: 0.8358\n",
      "Epoch 21/100\n",
      "555/555 [==============================] - 25s 45ms/step - loss: 0.8245\n",
      "Epoch 22/100\n",
      "555/555 [==============================] - 25s 45ms/step - loss: 0.8162\n",
      "Epoch 23/100\n",
      "555/555 [==============================] - 26s 47ms/step - loss: 0.8076\n",
      "Epoch 24/100\n",
      "555/555 [==============================] - 25s 46ms/step - loss: 0.7999\n",
      "Epoch 25/100\n",
      "555/555 [==============================] - 26s 46ms/step - loss: 0.7943\n",
      "Epoch 26/100\n",
      "555/555 [==============================] - 26s 47ms/step - loss: 0.7891\n",
      "Epoch 27/100\n",
      "555/555 [==============================] - 26s 47ms/step - loss: 0.7831\n",
      "Epoch 28/100\n",
      "555/555 [==============================] - 26s 47ms/step - loss: 0.7799\n",
      "Epoch 29/100\n",
      "555/555 [==============================] - 26s 47ms/step - loss: 0.7755\n",
      "Epoch 30/100\n",
      "555/555 [==============================] - 26s 47ms/step - loss: 0.7723\n",
      "Epoch 31/100\n",
      "555/555 [==============================] - 25s 45ms/step - loss: 0.7697 \n",
      "Epoch 32/100\n",
      "555/555 [==============================] - 27s 48ms/step - loss: 0.7678\n",
      "Epoch 33/100\n",
      "555/555 [==============================] - 26s 47ms/step - loss: 0.7655\n",
      "Epoch 34/100\n",
      "555/555 [==============================] - 26s 47ms/step - loss: 0.7644\n",
      "Epoch 35/100\n",
      "555/555 [==============================] - 28s 50ms/step - loss: 0.7630\n",
      "Epoch 36/100\n",
      "555/555 [==============================] - 29s 52ms/step - loss: 0.7616\n",
      "Epoch 37/100\n",
      "555/555 [==============================] - 25s 46ms/step - loss: 0.7610 0s - loss:\n",
      "Epoch 38/100\n",
      "555/555 [==============================] - 28s 50ms/step - loss: 0.7604\n",
      "Epoch 39/100\n",
      "555/555 [==============================] - 27s 49ms/step - loss: 0.7592\n",
      "Epoch 40/100\n",
      "555/555 [==============================] - 29s 52ms/step - loss: 0.7589\n",
      "Epoch 41/100\n",
      "555/555 [==============================] - 28s 50ms/step - loss: 0.7592\n",
      "Epoch 42/100\n",
      "555/555 [==============================] - 28s 51ms/step - loss: 0.7601\n",
      "Epoch 43/100\n",
      "555/555 [==============================] - 28s 50ms/step - loss: 0.7619\n",
      "Epoch 44/100\n",
      "555/555 [==============================] - 29s 52ms/step - loss: 0.7622\n",
      "Epoch 45/100\n",
      "555/555 [==============================] - 27s 49ms/step - loss: 0.7602\n",
      "Epoch 46/100\n",
      "555/555 [==============================] - 27s 48ms/step - loss: 0.7637\n",
      "Epoch 47/100\n",
      "555/555 [==============================] - 27s 49ms/step - loss: 0.7636 0s - loss\n",
      "Epoch 48/100\n",
      "555/555 [==============================] - 27s 48ms/step - loss: 0.7648\n",
      "Epoch 49/100\n",
      "555/555 [==============================] - 25s 45ms/step - loss: 0.7656\n",
      "Epoch 50/100\n",
      "555/555 [==============================] - 25s 45ms/step - loss: 0.7657\n",
      "Epoch 51/100\n",
      "555/555 [==============================] - 25s 45ms/step - loss: 0.7685\n",
      "Epoch 52/100\n",
      "555/555 [==============================] - 25s 46ms/step - loss: 0.7703 3s  - ETA: 2s - \n",
      "Epoch 53/100\n",
      "555/555 [==============================] - 27s 49ms/step - loss: 0.7706 0s - lo\n",
      "Epoch 54/100\n",
      "555/555 [==============================] - 27s 48ms/step - loss: 0.7732\n",
      "Epoch 55/100\n",
      "555/555 [==============================] - 26s 48ms/step - loss: 0.7746\n",
      "Epoch 56/100\n",
      "555/555 [==============================] - 26s 48ms/step - loss: 0.7771\n",
      "Epoch 57/100\n",
      "555/555 [==============================] - 27s 48ms/step - loss: 0.7791\n",
      "Epoch 58/100\n",
      "555/555 [==============================] - 27s 48ms/step - loss: 0.7840\n",
      "Epoch 59/100\n",
      "555/555 [==============================] - 27s 48ms/step - loss: 0.7861\n",
      "Epoch 60/100\n",
      "555/555 [==============================] - 27s 48ms/step - loss: 0.7875\n",
      "Epoch 61/100\n",
      "555/555 [==============================] - 26s 48ms/step - loss: 0.7906\n",
      "Epoch 62/100\n",
      "555/555 [==============================] - 27s 48ms/step - loss: 0.7931\n",
      "Epoch 63/100\n",
      "555/555 [==============================] - 26s 48ms/step - loss: 0.7969\n",
      "Epoch 64/100\n",
      "555/555 [==============================] - 27s 48ms/step - loss: 0.8014\n",
      "Epoch 65/100\n",
      "555/555 [==============================] - 27s 48ms/step - loss: 0.8039\n",
      "Epoch 66/100\n",
      "555/555 [==============================] - 27s 48ms/step - loss: 0.8069\n",
      "Epoch 67/100\n",
      "555/555 [==============================] - 27s 48ms/step - loss: 0.8104\n",
      "Epoch 68/100\n",
      "555/555 [==============================] - 26s 48ms/step - loss: 0.8138\n",
      "Epoch 69/100\n",
      "555/555 [==============================] - 27s 49ms/step - loss: 0.8180\n",
      "Epoch 70/100\n",
      "555/555 [==============================] - 27s 48ms/step - loss: 0.8233\n",
      "Epoch 71/100\n",
      "555/555 [==============================] - 27s 48ms/step - loss: 0.8265\n",
      "Epoch 72/100\n",
      "555/555 [==============================] - 27s 48ms/step - loss: 0.8305\n",
      "Epoch 73/100\n",
      "555/555 [==============================] - 30s 54ms/step - loss: 0.8364\n",
      "Epoch 74/100\n",
      "555/555 [==============================] - 26s 47ms/step - loss: 0.8423\n",
      "Epoch 75/100\n",
      "555/555 [==============================] - 26s 46ms/step - loss: 0.8474\n",
      "Epoch 76/100\n",
      "555/555 [==============================] - 26s 47ms/step - loss: 0.8491\n",
      "Epoch 77/100\n",
      "555/555 [==============================] - 27s 48ms/step - loss: 0.8561\n",
      "Epoch 78/100\n",
      "555/555 [==============================] - 26s 48ms/step - loss: 0.8643\n",
      "Epoch 79/100\n",
      "555/555 [==============================] - 28s 51ms/step - loss: 0.8643\n",
      "Epoch 80/100\n",
      "555/555 [==============================] - 29s 52ms/step - loss: 0.8751\n",
      "Epoch 81/100\n",
      "555/555 [==============================] - 26s 46ms/step - loss: 0.8816\n",
      "Epoch 82/100\n",
      "555/555 [==============================] - 25s 46ms/step - loss: 0.8902\n",
      "Epoch 83/100\n",
      "555/555 [==============================] - 25s 46ms/step - loss: 0.8956\n",
      "Epoch 84/100\n",
      "555/555 [==============================] - 25s 46ms/step - loss: 0.9021\n",
      "Epoch 85/100\n",
      "555/555 [==============================] - 26s 46ms/step - loss: 0.9069\n",
      "Epoch 86/100\n",
      "555/555 [==============================] - 26s 46ms/step - loss: 0.9152\n",
      "Epoch 87/100\n",
      "555/555 [==============================] - 26s 46ms/step - loss: 0.9250\n",
      "Epoch 88/100\n",
      "555/555 [==============================] - 25s 46ms/step - loss: 0.9293\n",
      "Epoch 89/100\n",
      "555/555 [==============================] - 27s 48ms/step - loss: 0.9386\n",
      "Epoch 90/100\n",
      "555/555 [==============================] - 27s 48ms/step - loss: 0.9478\n",
      "Epoch 91/100\n",
      "555/555 [==============================] - 27s 49ms/step - loss: 0.9555\n",
      "Epoch 92/100\n",
      "555/555 [==============================] - 28s 50ms/step - loss: 0.9639\n",
      "Epoch 93/100\n",
      "555/555 [==============================] - 26s 47ms/step - loss: 0.9727\n",
      "Epoch 94/100\n",
      "555/555 [==============================] - 28s 51ms/step - loss: 0.9884\n",
      "Epoch 95/100\n",
      "555/555 [==============================] - 30s 54ms/step - loss: 0.9966\n",
      "Epoch 96/100\n",
      "555/555 [==============================] - 30s 53ms/step - loss: 1.0015\n",
      "Epoch 97/100\n",
      "555/555 [==============================] - 30s 54ms/step - loss: 1.0101\n",
      "Epoch 98/100\n",
      "555/555 [==============================] - 30s 54ms/step - loss: 1.0153\n",
      "Epoch 99/100\n",
      "555/555 [==============================] - 30s 54ms/step - loss: 1.0233\n",
      "Epoch 100/100\n",
      "555/555 [==============================] - 30s 54ms/step - loss: 1.0342\n"
     ]
    }
   ],
   "source": [
    "EPOCHS=100\n",
    "history = model.fit(dataset.repeat(), epochs=EPOCHS, steps_per_epoch=steps_per_epoch, callbacks=[checkpoint_callback])"
   ]
  },
  {
   "cell_type": "markdown",
   "metadata": {},
   "source": [
    "### Text Generation"
   ]
  },
  {
   "cell_type": "markdown",
   "metadata": {},
   "source": [
    "As an advisor, in order to run this section alone, rerun all sections from [Analysis] and onward ignoring the line of code that actually executes the training (AKA the line right above from this one). Text generation should vary depending on the version of the network actually being used (but the GRU one provided the most \"deep\" output)."
   ]
  },
  {
   "cell_type": "code",
   "execution_count": 27,
   "metadata": {},
   "outputs": [
    {
     "data": {
      "text/plain": [
       "'./training_checkpoints_lstm\\\\ckpt_100'"
      ]
     },
     "execution_count": 27,
     "metadata": {},
     "output_type": "execute_result"
    }
   ],
   "source": [
    "# LSTM\n",
    "tf.train.latest_checkpoint(checkpoint_dir)"
   ]
  },
  {
   "cell_type": "code",
   "execution_count": 28,
   "metadata": {},
   "outputs": [],
   "source": [
    "model = build_model(vocab_size, embedding_dim, rnn_units, batch_size=1)\n",
    "\n",
    "model.load_weights(tf.train.latest_checkpoint(checkpoint_dir))\n",
    "\n",
    "model.build(tf.TensorShape([1, None]))"
   ]
  },
  {
   "cell_type": "code",
   "execution_count": 29,
   "metadata": {},
   "outputs": [
    {
     "name": "stdout",
     "output_type": "stream",
     "text": [
      "_________________________________________________________________\n",
      "Layer (type)                 Output Shape              Param #   \n",
      "=================================================================\n",
      "embedding_1 (Embedding)      (1, None, 256)            24576     \n",
      "_________________________________________________________________\n",
      "cu_dnnlstm_1 (CuDNNLSTM)     (1, None, 1024)           5251072   \n",
      "_________________________________________________________________\n",
      "dense_1 (Dense)              (1, None, 96)             98400     \n",
      "=================================================================\n",
      "Total params: 5,374,048\n",
      "Trainable params: 5,374,048\n",
      "Non-trainable params: 0\n",
      "_________________________________________________________________\n"
     ]
    }
   ],
   "source": [
    "model.summary()"
   ]
  },
  {
   "cell_type": "code",
   "execution_count": 53,
   "metadata": {},
   "outputs": [],
   "source": [
    "def generate_text(model, start_string, temperature=1):\n",
    "    # Evaluation step (generating text using the learned model)\n",
    "\n",
    "    # Number of characters to generate\n",
    "    num_generate = 1000\n",
    "\n",
    "    # Converting our start string to numbers (vectorizing) \n",
    "    input_eval = [char2idx[s] for s in start_string]\n",
    "    input_eval = tf.expand_dims(input_eval, 0)\n",
    "\n",
    "    # Empty string to store our results\n",
    "    text_generated = []\n",
    "\n",
    "    # Low temperatures results in more predictable text.\n",
    "    # Higher temperatures results in more surprising text.\n",
    "    # Experiment to find the best setting.\n",
    "    temperature = temperature\n",
    "\n",
    "    # Here batch size == 1\n",
    "    model.reset_states()\n",
    "    for i in range(num_generate):\n",
    "        predictions = model(input_eval)\n",
    "        # remove the batch dimension\n",
    "        predictions = tf.squeeze(predictions, 0)\n",
    "\n",
    "        # using a multinomial distribution to predict the word returned by the model\n",
    "        predictions = predictions / temperature\n",
    "        predicted_id = tf.multinomial(predictions, num_samples=1)[-1,0].numpy()\n",
    "\n",
    "        # We pass the predicted word as the next input to the model\n",
    "        # along with the previous hidden state\n",
    "        input_eval = tf.expand_dims([predicted_id], 0)\n",
    "\n",
    "        text_generated.append(idx2char[predicted_id])\n",
    "\n",
    "    return (start_string + ''.join(text_generated))"
   ]
  },
  {
   "cell_type": "markdown",
   "metadata": {},
   "source": [
    "### Some examples from the Char-RNN"
   ]
  },
  {
   "cell_type": "code",
   "execution_count": 54,
   "metadata": {},
   "outputs": [
    {
     "name": "stdout",
     "output_type": "stream",
     "text": [
      "\" than the one less t leader requirements of the passion you now quite pleasure in prioritics, great ends of the cold, than think.\" - Colos S. Gabros\r\n",
      "\"It takes 20 you learn something great work flow you back, and obstronges is a language and has been thcackled by people for the youngency of an equal time that portips first lock the word. But how hard you will find anything you want.\"\r\n",
      "\"To announce is the only cum.\"  George DuDai.\"-- unknown\r\n",
      "\"The longer book thing if in another person is the greater\"  Matstain Drammos\r\n",
      "\"Remember need.\" - Albert Camus\r\n",
      "\"They make peace with goodn love.\"-Phil Mamains\r\n",
      "\"Do what you hoped; far, man, assimistacally to fool today...\" - Marcat dinner\r\n",
      "\" Time we called the meashing complex that bushes what happens to live up the 'realize that I'm to their laugh with you. You will treat you that cruelos Earth is saire, it meanus not what it can be ideased by knowing what the unimportant partic humanity, all a mind has learned your own not working hard to be dis\n"
     ]
    }
   ],
   "source": [
    "print(generate_text(model, start_string=u\"\\\"\"))"
   ]
  },
  {
   "cell_type": "code",
   "execution_count": 55,
   "metadata": {},
   "outputs": [
    {
     "name": "stdout",
     "output_type": "stream",
     "text": [
      "\"S Christian The Leaker (2019)\r\n",
      "\"Inspiration is we need a quality, but not a miser. We forget them, and even pushed at difficult, fol showlined from say \"Never to control that people who are destroyed.\"  Carl Safavell\r\n",
      "\"There is nothing meaning because of those who lack down and attempt.\" - Friedrich Nietzsche\r\n",
      "\"Live as if you will dare man of violence buy they have human.\" - Charles Bukowski\r\n",
      "\"On my langus of nechose. The economy, the needs of people are always unexplorational the only thing that changes you,\"\r\n",
      "\"Success is not final\" in nothing, but a man lies instruction will be defensed to keep going.\" - Nietzscho\r\n",
      "\" Badey is myself, for every Soly in 1988 - Bring Garbare Fox\r\n",
      "\"There's never losely as human actual a shit, Grny Andress not in the middle the Man in renk now and the keapons of the putts.\" - Tim Leving\r\n",
      "\"A child inside her layer flows and over the theese Catch\r\n",
      "\"There are ways to fail decided by thesting saves itself.\"  Denzus Albert Buron.\r\n",
      "\"Ohe day is not igntalful, th\n"
     ]
    }
   ],
   "source": [
    "print(generate_text(model, start_string=u\"\\\"\"))"
   ]
  },
  {
   "cell_type": "code",
   "execution_count": 56,
   "metadata": {},
   "outputs": [
    {
     "name": "stdout",
     "output_type": "stream",
     "text": [
      "\"It's the neurder'' - Unknown\r\n",
      "\"I can think, be a boy, remind me two things, over can be not prevented to taught to the person, but friends, 'Nature has no dicklish, and when we love is unner\r\n",
      "\"Hard work will come to much free pun out of your life.\"\r\n",
      "\"We all all the existence of ketch us, Harvelled Holstoy life med men to chase becomes all yourself\" - Randyckon Brown\r\n",
      "\"To learn from a distarder adong it but not ceasantly disminders\"The future is the only man who's missing phrout of sane.\" Perry De, Apology's hands...\"he ever. The only thing had better be pushed, because those who matter hope his infinity in all slaw. And it face lies in the guy through the fires who admirts itself.\" \r\n",
      "\"poursely\"\r\n",
      "\"The grave, freedom should learn from others; Is there bett you fit, inside yourself, frequentive the family lines.\"\r\n",
      "\"The life we have to desert moments on fiftere people, but we making their death.\"- Arthur Wilsing and Your Mandon\"t look not from the chains from reality.\" - Jacobies of Dalis \n"
     ]
    }
   ],
   "source": [
    "print(generate_text(model, start_string=u\"\\\"\"))"
   ]
  },
  {
   "cell_type": "code",
   "execution_count": 57,
   "metadata": {},
   "outputs": [
    {
     "name": "stdout",
     "output_type": "stream",
     "text": [
      "\" Territus -inasturity of the Dune.\" Arnn Sah Hor theands it has not half feether, but every time and walker when we can exploid that is that when the debilas between joy, and it leads to me is through, neithink Skywarts  Ryamivaved for themselves\"-Addicis Cowers\r\n",
      "\"Sluderichism is the else in returnation.\" - Gilberto Russia (Cocute of True, unless Ice one estable\" -Angelis Brand\r\n",
      "\"Good books are hard above groundarns of the bones of the United Bg sont.\" - Ravi Silari\r\n",
      "\"And everything is crush, what is painting, let someone told me. But there'll of nothing makes just throws rules break and said that.\" Earl Mison\r\n",
      "\"Has ever really got to the truth.\" - Martily Black Faulknon, Undept of teches of from tramplies all the trulded person, or power but on that.\" -- Mark Twained\r\n",
      "\"Posifical is] grass 10 years of the people. Then there would be to find ug little far more Russia, while step believin's the other sinnor removes a things.\" - Michael Joh sant women to discover than a great time.\" - Mar\n"
     ]
    }
   ],
   "source": [
    "print(generate_text(model, start_string=u\"\\\"\"))"
   ]
  },
  {
   "cell_type": "markdown",
   "metadata": {},
   "source": [
    "One thing that is immediately clear is that the generally unformatted nature of the text is showing here. The network is likely attempting to find sequential significance in the string of quotes AND then attempting to fit even the incorrectly formatted quotes (which causes issues as there's no clear separation between quote and person). We can see this observation occasionally in the generated text."
   ]
  },
  {
   "cell_type": "code",
   "execution_count": 58,
   "metadata": {},
   "outputs": [],
   "source": [
    "NUM_WRITES = 100\n",
    "\n",
    "# And we write some of these outputs to a text file out of interest.\n",
    "with open('LSTMOutput.txt','w') as outFile:\n",
    "    for _ in range(NUM_WRITES):\n",
    "        outFile.write(generate_text(model, start_string=u\"\\\"\"))\n",
    "        outFile.write('\\n\\n') # double space to mark end of certain texts."
   ]
  },
  {
   "cell_type": "code",
   "execution_count": null,
   "metadata": {},
   "outputs": [],
   "source": []
  }
 ],
 "metadata": {
  "kernelspec": {
   "display_name": "Python 3",
   "language": "python",
   "name": "python3"
  },
  "language_info": {
   "codemirror_mode": {
    "name": "ipython",
    "version": 3
   },
   "file_extension": ".py",
   "mimetype": "text/x-python",
   "name": "python",
   "nbconvert_exporter": "python",
   "pygments_lexer": "ipython3",
   "version": "3.7.3"
  }
 },
 "nbformat": 4,
 "nbformat_minor": 2
}
